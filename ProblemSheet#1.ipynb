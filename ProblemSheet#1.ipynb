{
 "cells": [
  {
   "cell_type": "markdown",
   "metadata": {},
   "source": [
    "# Numerical Mathematics"
   ]
  },
  {
   "cell_type": "markdown",
   "metadata": {},
   "source": [
    "## Problem Sheet #1"
   ]
  },
  {
   "cell_type": "markdown",
   "metadata": {},
   "source": [
    "### Floating-point numbers, operations, examples for stable/unstable procedures"
   ]
  },
  {
   "cell_type": "markdown",
   "metadata": {},
   "source": [
    "<br>\n",
    "<b>1. Exercise.</b> Type $1/3$ in Octave's command window. Then use the <i>format long</i> and the <i>format</i> commands. Call the built in helper with the command <i>help</i> with the function <i>format</i> to see it's options and experiment with them!"
   ]
  },
  {
   "cell_type": "code",
   "execution_count": 1,
   "metadata": {},
   "outputs": [
    {
     "name": "stdout",
     "output_type": "stream",
     "text": [
      "ans =  0.33333\n"
     ]
    }
   ],
   "source": [
    "1/3"
   ]
  },
  {
   "cell_type": "code",
   "execution_count": 2,
   "metadata": {},
   "outputs": [
    {
     "name": "stdout",
     "output_type": "stream",
     "text": [
      "ans =  0.333333333333333\n"
     ]
    }
   ],
   "source": [
    "format long\n",
    "1/3"
   ]
  },
  {
   "cell_type": "code",
   "execution_count": 3,
   "metadata": {},
   "outputs": [
    {
     "name": "stdout",
     "output_type": "stream",
     "text": [
      "'format' is a built-in function from the file libinterp/corefcn/pr-output.cc\n",
      "\n",
      " -- format\n",
      " -- format options\n",
      "     Reset or specify the format of the output produced by 'disp' and\n",
      "     Octave's normal echoing mechanism.\n",
      "\n",
      "     This command only affects the display of numbers but not how they\n",
      "     are stored or computed.  To change the internal representation from\n",
      "     the default double use one of the conversion functions such as\n",
      "     'single', 'uint8', 'int64', etc.\n",
      "\n",
      "     By default, Octave displays 5 significant digits in a human\n",
      "     readable form (option 'short' paired with 'loose' format for\n",
      "     matrices).  If 'format' is invoked without any options, this\n",
      "     default format is restored.\n",
      "\n",
      "     Valid formats for floating point numbers are listed in the\n",
      "     following table.\n",
      "\n",
      "     'short'\n",
      "          Fixed point format with 5 significant figures in a field that\n",
      "          is a maximum of 10 characters wide.  (default).\n",
      "\n",
      "          If Octave is unable to format a matrix so that columns line up\n",
      "          on the decimal point and all numbers fit within the maximum\n",
      "          field width then it switches to an exponential 'e' format.\n",
      "\n",
      "     'long'\n",
      "          Fixed point format with 15 significant figures in a field that\n",
      "          is a maximum of 20 characters wide.\n",
      "\n",
      "          As with the 'short' format, Octave will switch to an\n",
      "          exponential 'e' format if it is unable to format a matrix\n",
      "          properly using the current format.\n",
      "\n",
      "     'short e'\n",
      "     'long e'\n",
      "          Exponential format.  The number to be represented is split\n",
      "          between a mantissa and an exponent (power of 10).  The\n",
      "          mantissa has 5 significant digits in the short format and 15\n",
      "          digits in the long format.  For example, with the 'short e'\n",
      "          format, 'pi' is displayed as '3.1416e+00'.\n",
      "\n",
      "     'short E'\n",
      "     'long E'\n",
      "          Identical to 'short e' or 'long e' but displays an uppercase\n",
      "          'E' to indicate the exponent.  For example, with the 'long E'\n",
      "          format, 'pi' is displayed as '3.14159265358979E+00'.\n",
      "\n",
      "     'short g'\n",
      "     'long g'\n",
      "          Optimally choose between fixed point and exponential format\n",
      "          based on the magnitude of the number.  For example, with the\n",
      "          'short g' format, 'pi .^ [2; 4; 8; 16; 32]' is displayed as\n",
      "\n",
      "               ans =\n",
      "\n",
      "                     9.8696\n",
      "                     97.409\n",
      "                     9488.5\n",
      "                 9.0032e+07\n",
      "                 8.1058e+15\n",
      "\n",
      "     'short eng'\n",
      "     'long eng'\n",
      "          Identical to 'short e' or 'long e' but displays the value\n",
      "          using an engineering format, where the exponent is divisible\n",
      "          by 3.  For example, with the 'short eng' format, '10 * pi' is\n",
      "          displayed as '31.4159e+00'.\n",
      "\n",
      "     'long G'\n",
      "     'short G'\n",
      "          Identical to 'short g' or 'long g' but displays an uppercase\n",
      "          'E' to indicate the exponent.\n",
      "\n",
      "     'free'\n",
      "     'none'\n",
      "          Print output in free format, without trying to line up columns\n",
      "          of matrices on the decimal point.  This also causes complex\n",
      "          numbers to be formatted as numeric pairs like this '(0.60419,\n",
      "          0.60709)' instead of like this '0.60419 + 0.60709i'.\n",
      "\n",
      "     The following formats affect all numeric output (floating point and\n",
      "     integer types).\n",
      "\n",
      "     '\"+\"'\n",
      "     '\"+\" CHARS'\n",
      "     'plus'\n",
      "     'plus CHARS'\n",
      "          Print a '+' symbol for matrix elements greater than zero, a\n",
      "          '-' symbol for elements less than zero and a space for zero\n",
      "          matrix elements.  This format can be very useful for examining\n",
      "          the structure of a large sparse matrix.\n",
      "\n",
      "          The optional argument CHARS specifies a list of 3 characters\n",
      "          to use for printing values greater than zero, less than zero\n",
      "          and equal to zero.  For example, with the '\"+\" \"+-.\"' format,\n",
      "          '[1, 0, -1; -1, 0, 1]' is displayed as\n",
      "\n",
      "               ans =\n",
      "\n",
      "               +.-\n",
      "               -.+\n",
      "\n",
      "     'bank'\n",
      "          Print in a fixed format with two digits to the right of the\n",
      "          decimal point.\n",
      "\n",
      "     'native-hex'\n",
      "          Print the hexadecimal representation of numbers as they are\n",
      "          stored in memory.  For example, on a workstation which stores\n",
      "          8 byte real values in IEEE format with the least significant\n",
      "          byte first, the value of 'pi' when printed in 'native-hex'\n",
      "          format is '400921fb54442d18'.\n",
      "\n",
      "     'hex'\n",
      "          The same as 'native-hex', but always print the most\n",
      "          significant byte first.\n",
      "\n",
      "     'native-bit'\n",
      "          Print the bit representation of numbers as stored in memory.\n",
      "          For example, the value of 'pi' is\n",
      "\n",
      "               01000000000010010010000111111011\n",
      "               01010100010001000010110100011000\n",
      "\n",
      "          (shown here in two 32 bit sections for typesetting purposes)\n",
      "          when printed in native-bit format on a workstation which\n",
      "          stores 8 byte real values in IEEE format with the least\n",
      "          significant byte first.\n",
      "\n",
      "     'bit'\n",
      "          The same as 'native-bit', but always print the most\n",
      "          significant bits first.\n",
      "\n",
      "     'rat'\n",
      "          Print a rational approximation, i.e., values are approximated\n",
      "          as the ratio of small integers.  For example, with the 'rat'\n",
      "          format, 'pi' is displayed as '355/113'.\n",
      "\n",
      "     The following two options affect the display of all matrices.\n",
      "\n",
      "     'compact'\n",
      "          Remove blank lines around column number labels and between\n",
      "          matrices producing more compact output with more data per\n",
      "          page.\n",
      "\n",
      "     'loose'\n",
      "          Insert blank lines above and below column number labels and\n",
      "          between matrices to produce a more readable output with less\n",
      "          data per page.  (default).\n",
      "\n",
      "     See also: fixed_point_format, output_max_field_width,\n",
      "     output_precision, split_long_rows, print_empty_dimensions, rats.\n",
      "\n",
      "Additional help for built-in functions and operators is\n",
      "available in the online version of the manual.  Use the command\n",
      "'doc <topic>' to search the manual index.\n",
      "\n",
      "Help and information about Octave is also available on the WWW\n",
      "at http://www.octave.org and via the help@octave.org\n",
      "mailing list.\n"
     ]
    }
   ],
   "source": [
    "help format"
   ]
  },
  {
   "cell_type": "code",
   "execution_count": 2,
   "metadata": {},
   "outputs": [],
   "source": [
    "% Call the built in helper with the command <i>help</i> with the function <i>format</i> to see it's options!"
   ]
  },
  {
   "cell_type": "code",
   "execution_count": 1,
   "metadata": {},
   "outputs": [],
   "source": [
    "% Place for experiments!"
   ]
  },
  {
   "cell_type": "markdown",
   "metadata": {},
   "source": [
    "<br>\n",
    "<b>2. Task.</b> As you learned on the lecture, on floating-point numbers the addition and the multiplication are not associative operations, also not distributive. Let's check this on addition, if\n",
    "\n",
    "<br> \n",
    "$$a=0.4,\\ b=-0.5,\\ c=0.1.$$\n",
    "\n",
    "It also can be checked with the help of logical operators!"
   ]
  },
  {
   "cell_type": "code",
   "execution_count": 0,
   "metadata": {},
   "outputs": [],
   "source": []
  },
  {
   "cell_type": "markdown",
   "metadata": {},
   "source": [
    "<br>\n",
    "<b>3. Task.</b> Call the <i>help</i> command for the following functions: <i>eps</i>, <i>realmin</i> and <i>realmax</i>, then check their documentations. What does these values mean, regarding to your knowledge about the machine numbers?"
   ]
  },
  {
   "cell_type": "code",
   "execution_count": 0,
   "metadata": {},
   "outputs": [],
   "source": [
    "\n"
   ]
  },
  {
   "cell_type": "code",
   "execution_count": 0,
   "metadata": {},
   "outputs": [],
   "source": []
  },
  {
   "cell_type": "markdown",
   "metadata": {},
   "source": [
    "<br>\n",
    "<b>4. Task.</b> Let's look at the following two algorithms to calculate the $a_1+a_2+\\ldots+a_n$ sum\n",
    "<br><br>\n",
    "\n",
    "<table>\n",
    " <tr>\n",
    "    <th>Algorithm 1</th>\n",
    "    <th>Algorithm 2</th> \n",
    "  </tr>\n",
    "  <tr>\n",
    "    <td>s=0;<br>\n",
    "     for i=1:n<br>\n",
    "         &nbsp;&nbsp;&nbsp;&nbsp;&nbsp;s=s+a_i;<br>\n",
    "     end\n",
    "     </td>\n",
    "     <td>s=0;<br>\n",
    "     for i=n:-1:1<br>\n",
    "     &nbsp;&nbsp;&nbsp;&nbsp;&nbsp;s=s+a_i;<br>\n",
    "     end\n",
    "     </td>\n",
    "  </tr>\n",
    "</table>\n",
    "<br>\n",
    "What does these two algorithms mean? Regarding to what you already learned, what would you expect before running the code? Write a script, which can calculate the value of $S_n=\\displaystyle\\sum_{i=1}^n \\frac{1}{i\\cdot(i+1)}$ with both algorithms, in the case of $n=999999$!"
   ]
  },
  {
   "cell_type": "code",
   "execution_count": 3,
   "metadata": {},
   "outputs": [],
   "source": [
    "% Algorithm 1"
   ]
  },
  {
   "cell_type": "code",
   "execution_count": 4,
   "metadata": {},
   "outputs": [],
   "source": [
    "% Algorithm 2"
   ]
  },
  {
   "cell_type": "markdown",
   "metadata": {},
   "source": [
    "<br>\n",
    "<b>5. Task.</b> Let's see the following integral:\n",
    "$$\\displaystyle I_n=\\int_0^1\\frac{x^n}{10+x}dx,$$ where $n\\in\\mathbb{N}$. It can be shown <br>\n",
    "\n",
    "+ $I_n\\geq 0$, <br>\n",
    "+ $I_{n+1}\\leq I_n$ and <br>\n",
    "+ $I_n\\to 0$, ha $n\\to\\infty$. <br>\n",
    "\n",
    "Furthermore, to calculate the value of $I_n$ we can use the following\n",
    "$$I_n=\\frac{1}{n}-10I_{n-1},\\ I_0=\\ln(1.1) $$\n",
    "recursion as well.\n",
    "<br><br>\n",
    "(a) Write a program code, named <i>recursion.m</i>, which calculates the approximated value of the integral, for given $n$. What do you experience, when $n$ has a big value? Give a precise theoretical explanation!"
   ]
  },
  {
   "cell_type": "code",
   "execution_count": 5,
   "metadata": {},
   "outputs": [],
   "source": [
    "% For thinking\n"
   ]
  },
  {
   "cell_type": "code",
   "execution_count": 10,
   "metadata": {},
   "outputs": [
    {
     "name": "stdout",
     "output_type": "stream",
     "text": [
      "error: 'recursion' undefined near line 2 column 1\n"
     ]
    }
   ],
   "source": [
    "% The program and the experiences\n",
    "recursion(18)"
   ]
  },
  {
   "cell_type": "markdown",
   "metadata": {},
   "source": [
    "(b) Write a program named <i>stablerecursion.m</i>, which makes the recursion stable with the help of the $$I_{n}:=0,\\ I_{n-1}=\\frac{1}{10}\\left(\\frac{1}{n}-I_n\\right),$$\n",
    "recursion! "
   ]
  },
  {
   "cell_type": "code",
   "execution_count": 7,
   "metadata": {},
   "outputs": [],
   "source": [
    "% Stable rekursion\n"
   ]
  },
  {
   "cell_type": "markdown",
   "metadata": {
    "collapsed": true
   },
   "source": [
    "<br>\n",
    "<b>6. Task.</b> Write a script, which plots the values of the $(x-1)^8$ expression, in the close neighbourhood of $1$, with the help of the following functions:\n",
    "<br>\n",
    "\n",
    "+ $f(x)=(x-1)^8$ and <br>\n",
    "+ $g(x)=x^8 - 8x^7 + 28x^6 - 56x^5 + 70x^4 - 56x^3 + 28x^2 - 8x + 1$"
   ]
  },
  {
   "cell_type": "code",
   "execution_count": 68,
   "metadata": {},
   "outputs": [
    {
     "data": {
      "image/png": "[encoded data removed]",
      "text/plain": [
       "<IPython.core.display.Image object>"
      ]
     },
     "execution_count": 68,
     "metadata": {},
     "output_type": "execute_result"
    }
   ],
   "source": []
  },
  {
   "cell_type": "markdown",
   "metadata": {},
   "source": [
    "<br>\n",
    "<b>7. Task.</b> (a) Check the values of the following logical expressions:<br>\n",
    "\n",
    "$$2^{66} + 1 == 2^{66},\\\n",
    "2^{66} + 10 == 2^{66},\\\n",
    "2^{66} + 100 == 2^{66},\\\n",
    "2^{66} + 1000 == 2^{66},\\ \n",
    "2^{66} + 10000 == 2^{66}$$ \n",
    "<br>"
   ]
  },
  {
   "cell_type": "code",
   "execution_count": 8,
   "metadata": {},
   "outputs": [],
   "source": [
    "% (a)\n"
   ]
  },
  {
   "cell_type": "markdown",
   "metadata": {},
   "source": [
    "(b) Find the smallest $n\\in\\mathbb{N}$ number, for which the $2^{66}+n==2^{66}$ logical expression is true!"
   ]
  },
  {
   "cell_type": "code",
   "execution_count": 9,
   "metadata": {},
   "outputs": [],
   "source": [
    "% (b)\n"
   ]
  },
  {
   "cell_type": "code",
   "execution_count": 8,
   "metadata": {},
   "outputs": [],
   "source": [
    "% Verification\n"
   ]
  }
 ],
 "metadata": {
  "kernelspec": {
   "display_name": "Octave",
   "language": "octave",
   "name": "octave"
  },
  "language_info": {
   "file_extension": ".m",
   "help_links": [
    {
     "text": "GNU Octave",
     "url": "https://www.gnu.org/software/octave/support.html"
    },
    {
     "text": "Octave Kernel",
     "url": "https://github.com/Calysto/octave_kernel"
    },
    {
     "text": "MetaKernel Magics",
     "url": "https://metakernel.readthedocs.io/en/latest/source/README.html"
    }
   ],
   "mimetype": "text/x-octave",
   "name": "octave",
   "version": "5.1.0"
  }
 },
 "nbformat": 4,
 "nbformat_minor": 1
}
