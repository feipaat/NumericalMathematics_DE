{
 "cells": [
  {
   "cell_type": "markdown",
   "metadata": {},
   "source": [
    "# <center>Numerical Mathematics</center>\n",
    "## <center>Business Informatics BSc</center>\n",
    "\n",
    "### <center>Spring 2020</center>\n",
    "\n",
    "<img src=\"logo.png\" width=\"400\">\n",
    "<br>\n",
    "<br>\n"
   ]
  },
  {
   "cell_type": "markdown",
   "metadata": {},
   "source": [
    "## <center>Imre Fekete<br><br> Department of Applied Mathematics and Probability Theory<br></center>\n",
    "\n",
    "\n",
    "\n",
    "### General information:\n",
    "+ Email: fekete.imre@zimbra.inf.unideb.hu\n",
    "+ Website: <a href=\"http://imrefekete.web.elte.hu/\" target=\"_blank\">http://imrefekete.web.elte.hu/index_en.html</a>\n",
    "+ All of the materials can be found at <a href=\"https://github.com/feipaat/NumericalMathematics_DE\">https://github.com/feipaat/NumericalMathematics_DE</a> \n",
    "+ Office hours: Tue 10-11 and Thu 12-13\n",
    "+ <span class=\"fa fa-building-o\"></span> 2nd floor, I210</li>\n",
    "\n",
    "### Instructor\n",
    "+ Sándor Pecsora (You can reach using the website https://inf.unideb.hu)\n",
    "\n",
    "\n",
    "### Requirements:\n",
    "\n",
    "+ 2 theoreteical tests; 2 programming test\n",
    "+ The details have been announced at class.\n",
    "<br>\n",
    "<br>\n",
    "\n",
    "\n",
    "### Three wishes:\n",
    "<br>\n",
    "\n",
    "<div style=\"width:870 px\"></div>\n",
    "<div style=\"float:left\"><img src=\"questions.jpg\" width=\"450\" title=\"Be brave and ask if you do not understand something!\"/></div>\n",
    "<div style=\"float:left\"><img src=\"practice.jpg\" width=\"400\" title=\"Practice makes perfect!\"/></div>\n",
    "<div style=\"float:left\"><img src=\"positive.jpg\" width=\"870\" title=\"A good atmosphere is always nice!\"/></div> \n",
    "<div style=\"clear:both\"></div> \n",
    "<br>\n",
    "<br> \n",
    "\n",
    "### Octave\n",
    "+ <a href=\"https://www.gnu.org/software/octave/\">Official link</a>\n",
    "\n",
    "### MATLAB\n",
    "+  <a href=\"https://www.mathworks.com/products/matlab.html\">Official link</a>\n",
    "\n",
    "<br>\n",
    "<br>"
   ]
  },
  {
   "cell_type": "markdown",
   "metadata": {},
   "source": [
    "## Motivation\n",
    "<img src=\"modell.jpg\" width=\"870\" title=\"Thom Dunning Jr., SciDAC programme (200)\">\n",
    "\n",
    "\n",
    "<br>\n",
    "<br> \n",
    "<br>\n",
    "<br> "
   ]
  },
  {
   "cell_type": "markdown",
   "metadata": {},
   "source": [
    "# <center>Floating-point arithmetic</center>\n",
    "## <center>Numbers, basic operations, examples for stable/unstable procedures</center>"
   ]
  },
  {
   "cell_type": "code",
   "execution_count": 2,
   "metadata": {},
   "outputs": [
    {
     "name": "stdout",
     "output_type": "stream",
     "text": [
      "ans =    2.2204e-16\n",
      "ans =    4.4409e-16\n"
     ]
    }
   ],
   "source": [
    "eps\n",
    "eps(2)"
   ]
  },
  {
   "cell_type": "markdown",
   "metadata": {},
   "source": [
    "##  Example \n",
    "###  $M(2,4,-3,2)$\n",
    "\n",
    "\n",
    "\n",
    "\n",
    "| | $k=0$ | $k=1$ | $k=2$ | $k=-1$ | $k=-2$ | $k=-3$ | \n",
    "| --- | --- | --- | --- | --- | --- | --- | \n",
    "| $0.1000$ | $\\frac{8}{16}$ | $\\frac{8}{8}$ | $\\frac{8}{4}$ | $\\frac{8}{32}$ | $\\frac{8}{64}$ | $\\frac{8}{128}$ |\n",
    "| $0.1001$ | $\\frac{9}{16}$ | $\\frac{9}{8}$ | $\\frac{9}{4}$ | $\\frac{9}{32}$ | $\\frac{9}{64}$ | $\\frac{9}{128}$ |\n",
    "| $0.1010$ | $\\frac{10}{16}$ | $\\frac{10}{8}$ | $\\frac{10}{4}$ | $\\frac{10}{32}$ | $\\frac{10}{64}$ | $\\frac{10}{128}$|\n",
    "| $0.1011$ | $\\frac{11}{16}$ | $\\frac{11}{8}$ | $\\frac{11}{4}$ | $\\frac{11}{32}$ | $\\frac{11}{64}$ | $\\frac{11}{128}$|\n",
    "| $0.1100$ | $\\frac{12}{16}$ | $\\frac{12}{8}$ | $\\frac{12}{4}$ | $\\frac{12}{32}$ | $\\frac{12}{64}$ | $\\frac{12}{128}$ |\n",
    "| $0.1101$ | $\\frac{13}{16}$ | $\\frac{13}{8}$ | $\\frac{13}{4}$ | $\\frac{13}{32}$ | $\\frac{13}{64}$ | $\\frac{13}{128}$ |\n",
    "| $0.1110$ | $\\frac{14}{16}$ | $\\frac{14}{8}$ | $\\frac{14}{4}$ | $\\frac{14}{32}$ | $\\frac{14}{64}$ | $\\frac{14}{128}$ |\n",
    "| $0.1111$ | $\\frac{15}{16}$ | $\\frac{15}{8}$ | $\\frac{15}{4}$ | $\\frac{15}{32}$ | $\\frac{15}{64}$ | $\\frac{15}{128}$ |\n",
    "\n",
    "\n",
    "\n"
   ]
  },
  {
   "cell_type": "code",
   "execution_count": 2,
   "metadata": {},
   "outputs": [
    {
     "data": {
      "image/svg+xml": [
       "<svg height=\"420px\" viewBox=\"0 0 560 420\" width=\"560px\" xmlns=\"http://www.w3.org/2000/svg\" xmlns:xlink=\"http://www.w3.org/1999/xlink\">\n",
       "\n",
       "<title>Gnuplot</title>\n",
       "<desc>Produced by GNUPLOT 5.2 patchlevel 8 </desc>\n",
       "\n",
       "<g id=\"gnuplot_canvas\">\n",
       "\n",
       "<rect fill=\"#ffffff\" height=\"420\" width=\"560\" x=\"0\" y=\"0\"/>\n",
       "<defs>\n",
       "\n",
       "\t<circle id=\"gpDot\" r=\"0.5\" stroke=\"currentColor\" stroke-width=\"0.5\"/>\n",
       "\t<path d=\"M-1,0 h2 M0,-1 v2\" id=\"gpPt0\" stroke=\"currentColor\" stroke-width=\"0.357\"/>\n",
       "\t<path d=\"M-1,-1 L1,1 M1,-1 L-1,1\" id=\"gpPt1\" stroke=\"currentColor\" stroke-width=\"0.357\"/>\n",
       "\t<path d=\"M-1,0 L1,0 M0,-1 L0,1 M-1,-1 L1,1 M-1,1 L1,-1\" id=\"gpPt2\" stroke=\"currentColor\" stroke-width=\"0.357\"/>\n",
       "\t<rect height=\"2\" id=\"gpPt3\" stroke=\"currentColor\" stroke-width=\"0.357\" width=\"2\" x=\"-1\" y=\"-1\"/>\n",
       "\t<rect fill=\"currentColor\" height=\"2\" id=\"gpPt4\" stroke=\"currentColor\" stroke-width=\"0.357\" width=\"2\" x=\"-1\" y=\"-1\"/>\n",
       "\t<circle cx=\"0\" cy=\"0\" id=\"gpPt5\" r=\"1\" stroke=\"currentColor\" stroke-width=\"0.357\"/>\n",
       "\t<use fill=\"currentColor\" id=\"gpPt6\" stroke=\"none\" xlink:href=\"#gpPt5\"/>\n",
       "\t<path d=\"M0,-1.33 L-1.33,0.67 L1.33,0.67 z\" id=\"gpPt7\" stroke=\"currentColor\" stroke-width=\"0.357\"/>\n",
       "\t<use fill=\"currentColor\" id=\"gpPt8\" stroke=\"none\" xlink:href=\"#gpPt7\"/>\n",
       "\t<use id=\"gpPt9\" stroke=\"currentColor\" transform=\"rotate(180)\" xlink:href=\"#gpPt7\"/>\n",
       "\t<use fill=\"currentColor\" id=\"gpPt10\" stroke=\"none\" xlink:href=\"#gpPt9\"/>\n",
       "\t<use id=\"gpPt11\" stroke=\"currentColor\" transform=\"rotate(45)\" xlink:href=\"#gpPt3\"/>\n",
       "\t<use fill=\"currentColor\" id=\"gpPt12\" stroke=\"none\" xlink:href=\"#gpPt11\"/>\n",
       "\t<path d=\"M0,1.330 L1.265,0.411 L0.782,-1.067 L-0.782,-1.076 L-1.265,0.411 z\" id=\"gpPt13\" stroke=\"currentColor\" stroke-width=\"0.357\"/>\n",
       "\t<use fill=\"currentColor\" id=\"gpPt14\" stroke=\"none\" xlink:href=\"#gpPt13\"/>\n",
       "\t<filter filterUnits=\"objectBoundingBox\" height=\"1\" id=\"textbox\" width=\"1\" x=\"0\" y=\"0\">\n",
       "\t  <feFlood flood-color=\"#FFFFFF\" flood-opacity=\"1\" result=\"bgnd\"/>\n",
       "\t  <feComposite in=\"SourceGraphic\" in2=\"bgnd\" operator=\"atop\"/>\n",
       "\t</filter>\n",
       "\t<filter filterUnits=\"objectBoundingBox\" height=\"1\" id=\"greybox\" width=\"1\" x=\"0\" y=\"0\">\n",
       "\t  <feFlood flood-color=\"lightgrey\" flood-opacity=\"1\" result=\"grey\"/>\n",
       "\t  <feComposite in=\"SourceGraphic\" in2=\"grey\" operator=\"atop\"/>\n",
       "\t</filter>\n",
       "</defs>\n",
       "<g color=\"#FFFFFF\" fill=\"none\" stroke=\"currentColor\" stroke-linecap=\"butt\" stroke-linejoin=\"miter\" stroke-width=\"1.00\">\n",
       "</g>\n",
       "<g color=\"black\" fill=\"none\" stroke=\"currentColor\" stroke-linecap=\"butt\" stroke-linejoin=\"miter\" stroke-width=\"1.00\">\n",
       "\t<g shape-rendering=\"crispEdges\" stroke=\"none\">\n",
       "\t\t<polygon fill=\"rgb(255, 255, 255)\" points=\"49.4,397.6 544.2,397.6 544.2,39.1 49.4,39.1 \"/>\n",
       "\t</g>\n",
       "</g>\n",
       "<g color=\"black\" fill=\"none\" stroke=\"currentColor\" stroke-linecap=\"butt\" stroke-linejoin=\"miter\" stroke-width=\"1.00\">\n",
       "\t<path d=\"M49.4,397.6 L57.2,397.6 M544.3,397.6 L536.5,397.6  \" stroke=\"rgb(  0,   0,   0)\"/>\t<g fill=\"rgb(38,38,38)\" font-family=\"Arial\" font-size=\"10.00\" stroke=\"none\" text-anchor=\"end\" transform=\"translate(44.2,400.9)\">\n",
       "\t\t<text><tspan font-family=\"Arial\">-0.001</tspan></text>\n",
       "\t</g>\n",
       "</g>\n",
       "<g color=\"black\" fill=\"none\" stroke=\"currentColor\" stroke-linecap=\"butt\" stroke-linejoin=\"miter\" stroke-width=\"1.00\">\n",
       "\t<path d=\"M49.4,307.9 L57.2,307.9 M544.3,307.9 L536.5,307.9  \" stroke=\"rgb(  0,   0,   0)\"/>\t<g fill=\"rgb(38,38,38)\" font-family=\"Arial\" font-size=\"10.00\" stroke=\"none\" text-anchor=\"end\" transform=\"translate(44.2,311.2)\">\n",
       "\t\t<text><tspan font-family=\"Arial\">-0.0005</tspan></text>\n",
       "\t</g>\n",
       "</g>\n",
       "<g color=\"black\" fill=\"none\" stroke=\"currentColor\" stroke-linecap=\"butt\" stroke-linejoin=\"miter\" stroke-width=\"1.00\">\n",
       "\t<path d=\"M49.4,218.3 L57.2,218.3 M544.3,218.3 L536.5,218.3  \" stroke=\"rgb(  0,   0,   0)\"/>\t<g fill=\"rgb(38,38,38)\" font-family=\"Arial\" font-size=\"10.00\" stroke=\"none\" text-anchor=\"end\" transform=\"translate(44.2,221.6)\">\n",
       "\t\t<text><tspan font-family=\"Arial\">0</tspan></text>\n",
       "\t</g>\n",
       "</g>\n",
       "<g color=\"black\" fill=\"none\" stroke=\"currentColor\" stroke-linecap=\"butt\" stroke-linejoin=\"miter\" stroke-width=\"1.00\">\n",
       "\t<path d=\"M49.4,128.6 L57.2,128.6 M544.3,128.6 L536.5,128.6  \" stroke=\"rgb(  0,   0,   0)\"/>\t<g fill=\"rgb(38,38,38)\" font-family=\"Arial\" font-size=\"10.00\" stroke=\"none\" text-anchor=\"end\" transform=\"translate(44.2,131.9)\">\n",
       "\t\t<text><tspan font-family=\"Arial\">0.0005</tspan></text>\n",
       "\t</g>\n",
       "</g>\n",
       "<g color=\"black\" fill=\"none\" stroke=\"currentColor\" stroke-linecap=\"butt\" stroke-linejoin=\"miter\" stroke-width=\"1.00\">\n",
       "\t<path d=\"M49.4,39.0 L57.2,39.0 M544.3,39.0 L536.5,39.0  \" stroke=\"rgb(  0,   0,   0)\"/>\t<g fill=\"rgb(38,38,38)\" font-family=\"Arial\" font-size=\"10.00\" stroke=\"none\" text-anchor=\"end\" transform=\"translate(44.2,42.3)\">\n",
       "\t\t<text><tspan font-family=\"Arial\">0.001</tspan></text>\n",
       "\t</g>\n",
       "</g>\n",
       "<g color=\"black\" fill=\"none\" stroke=\"currentColor\" stroke-linecap=\"butt\" stroke-linejoin=\"miter\" stroke-width=\"1.00\">\n",
       "\t<path d=\"M49.4,397.6 L49.4,389.8 M49.4,39.0 L49.4,46.8  \" stroke=\"rgb(  0,   0,   0)\"/>\t<g fill=\"rgb(38,38,38)\" font-family=\"Arial\" font-size=\"10.00\" stroke=\"none\" text-anchor=\"middle\" transform=\"translate(49.4,412.1)\">\n",
       "\t\t<text><tspan font-family=\"Arial\">0</tspan></text>\n",
       "\t</g>\n",
       "</g>\n",
       "<g color=\"black\" fill=\"none\" stroke=\"currentColor\" stroke-linecap=\"butt\" stroke-linejoin=\"miter\" stroke-width=\"1.00\">\n",
       "\t<path d=\"M173.1,397.6 L173.1,389.8 M173.1,39.0 L173.1,46.8  \" stroke=\"rgb(  0,   0,   0)\"/>\t<g fill=\"rgb(38,38,38)\" font-family=\"Arial\" font-size=\"10.00\" stroke=\"none\" text-anchor=\"middle\" transform=\"translate(173.1,412.1)\">\n",
       "\t\t<text><tspan font-family=\"Arial\">1</tspan></text>\n",
       "\t</g>\n",
       "</g>\n",
       "<g color=\"black\" fill=\"none\" stroke=\"currentColor\" stroke-linecap=\"butt\" stroke-linejoin=\"miter\" stroke-width=\"1.00\">\n",
       "\t<path d=\"M296.9,397.6 L296.9,389.8 M296.9,39.0 L296.9,46.8  \" stroke=\"rgb(  0,   0,   0)\"/>\t<g fill=\"rgb(38,38,38)\" font-family=\"Arial\" font-size=\"10.00\" stroke=\"none\" text-anchor=\"middle\" transform=\"translate(296.9,412.1)\">\n",
       "\t\t<text><tspan font-family=\"Arial\">2</tspan></text>\n",
       "\t</g>\n",
       "</g>\n",
       "<g color=\"black\" fill=\"none\" stroke=\"currentColor\" stroke-linecap=\"butt\" stroke-linejoin=\"miter\" stroke-width=\"1.00\">\n",
       "\t<path d=\"M420.6,397.6 L420.6,389.8 M420.6,39.0 L420.6,46.8  \" stroke=\"rgb(  0,   0,   0)\"/>\t<g fill=\"rgb(38,38,38)\" font-family=\"Arial\" font-size=\"10.00\" stroke=\"none\" text-anchor=\"middle\" transform=\"translate(420.6,412.1)\">\n",
       "\t\t<text><tspan font-family=\"Arial\">3</tspan></text>\n",
       "\t</g>\n",
       "</g>\n",
       "<g color=\"black\" fill=\"none\" stroke=\"currentColor\" stroke-linecap=\"butt\" stroke-linejoin=\"miter\" stroke-width=\"1.00\">\n",
       "\t<path d=\"M544.3,397.6 L544.3,389.8 M544.3,39.0 L544.3,46.8  \" stroke=\"rgb(  0,   0,   0)\"/>\t<g fill=\"rgb(38,38,38)\" font-family=\"Arial\" font-size=\"10.00\" stroke=\"none\" text-anchor=\"middle\" transform=\"translate(544.3,412.1)\">\n",
       "\t\t<text><tspan font-family=\"Arial\">4</tspan></text>\n",
       "\t</g>\n",
       "</g>\n",
       "<g color=\"black\" fill=\"none\" stroke=\"currentColor\" stroke-linecap=\"butt\" stroke-linejoin=\"miter\" stroke-width=\"1.00\">\n",
       "</g>\n",
       "<g color=\"black\" fill=\"none\" stroke=\"currentColor\" stroke-linecap=\"butt\" stroke-linejoin=\"miter\" stroke-width=\"1.00\">\n",
       "\t<g fill=\"rgb(0,0,0)\" font-family=\":Bold\" font-size=\"11.00\" stroke=\"none\" text-anchor=\"middle\" transform=\"translate(296.8,20.5)\">\n",
       "\t\t<text><tspan font-family=\"\" font-weight=\"bold\">M(2,4,-3,2) floating point numbers</tspan></text>\n",
       "\t</g>\n",
       "</g>\n",
       "<g color=\"black\" fill=\"none\" stroke=\"currentColor\" stroke-linecap=\"butt\" stroke-linejoin=\"miter\" stroke-width=\"1.00\">\n",
       "</g>\n",
       "\t<g id=\"gnuplot_plot_1a\"><title>gnuplot_plot_1a</title>\n",
       "<g color=\"#FFFFFF\" fill=\"none\" stroke=\"currentColor\" stroke-linecap=\"butt\" stroke-linejoin=\"miter\" stroke-width=\"0.50\">\n",
       "</g>\n",
       "<g color=\"black\" fill=\"none\" stroke=\"currentColor\" stroke-linecap=\"butt\" stroke-linejoin=\"miter\" stroke-width=\"0.50\">\n",
       "\t<use color=\"rgb(255,   0, 255)\" transform=\"translate(296.9,218.3) scale(5.60)\" xlink:href=\"#gpPt5\"/>\n",
       "\t<use color=\"rgb(255,   0, 255)\" transform=\"translate(327.8,218.3) scale(5.60)\" xlink:href=\"#gpPt5\"/>\n",
       "\t<use color=\"rgb(255,   0, 255)\" transform=\"translate(358.7,218.3) scale(5.60)\" xlink:href=\"#gpPt5\"/>\n",
       "\t<use color=\"rgb(255,   0, 255)\" transform=\"translate(389.6,218.3) scale(5.60)\" xlink:href=\"#gpPt5\"/>\n",
       "\t<use color=\"rgb(255,   0, 255)\" transform=\"translate(420.6,218.3) scale(5.60)\" xlink:href=\"#gpPt5\"/>\n",
       "\t<use color=\"rgb(255,   0, 255)\" transform=\"translate(451.5,218.3) scale(5.60)\" xlink:href=\"#gpPt5\"/>\n",
       "\t<use color=\"rgb(255,   0, 255)\" transform=\"translate(482.4,218.3) scale(5.60)\" xlink:href=\"#gpPt5\"/>\n",
       "\t<use color=\"rgb(255,   0, 255)\" transform=\"translate(513.4,218.3) scale(5.60)\" xlink:href=\"#gpPt5\"/>\n",
       "\t<use color=\"rgb(255,   0, 255)\" transform=\"translate(173.1,218.3) scale(5.60)\" xlink:href=\"#gpPt5\"/>\n",
       "\t<use color=\"rgb(255,   0, 255)\" transform=\"translate(188.6,218.3) scale(5.60)\" xlink:href=\"#gpPt5\"/>\n",
       "\t<use color=\"rgb(255,   0, 255)\" transform=\"translate(204.1,218.3) scale(5.60)\" xlink:href=\"#gpPt5\"/>\n",
       "\t<use color=\"rgb(255,   0, 255)\" transform=\"translate(219.5,218.3) scale(5.60)\" xlink:href=\"#gpPt5\"/>\n",
       "\t<use color=\"rgb(255,   0, 255)\" transform=\"translate(235.0,218.3) scale(5.60)\" xlink:href=\"#gpPt5\"/>\n",
       "\t<use color=\"rgb(255,   0, 255)\" transform=\"translate(250.5,218.3) scale(5.60)\" xlink:href=\"#gpPt5\"/>\n",
       "\t<use color=\"rgb(255,   0, 255)\" transform=\"translate(265.9,218.3) scale(5.60)\" xlink:href=\"#gpPt5\"/>\n",
       "\t<use color=\"rgb(255,   0, 255)\" transform=\"translate(281.4,218.3) scale(5.60)\" xlink:href=\"#gpPt5\"/>\n",
       "\t<use color=\"rgb(255,   0, 255)\" transform=\"translate(111.3,218.3) scale(5.60)\" xlink:href=\"#gpPt5\"/>\n",
       "\t<use color=\"rgb(255,   0, 255)\" transform=\"translate(119.0,218.3) scale(5.60)\" xlink:href=\"#gpPt5\"/>\n",
       "\t<use color=\"rgb(255,   0, 255)\" transform=\"translate(126.7,218.3) scale(5.60)\" xlink:href=\"#gpPt5\"/>\n",
       "\t<use color=\"rgb(255,   0, 255)\" transform=\"translate(134.5,218.3) scale(5.60)\" xlink:href=\"#gpPt5\"/>\n",
       "\t<use color=\"rgb(255,   0, 255)\" transform=\"translate(142.2,218.3) scale(5.60)\" xlink:href=\"#gpPt5\"/>\n",
       "\t<use color=\"rgb(255,   0, 255)\" transform=\"translate(149.9,218.3) scale(5.60)\" xlink:href=\"#gpPt5\"/>\n",
       "\t<use color=\"rgb(255,   0, 255)\" transform=\"translate(157.7,218.3) scale(5.60)\" xlink:href=\"#gpPt5\"/>\n",
       "\t<use color=\"rgb(255,   0, 255)\" transform=\"translate(165.4,218.3) scale(5.60)\" xlink:href=\"#gpPt5\"/>\n",
       "\t<use color=\"rgb(255,   0, 255)\" transform=\"translate(80.3,218.3) scale(5.60)\" xlink:href=\"#gpPt5\"/>\n",
       "\t<use color=\"rgb(255,   0, 255)\" transform=\"translate(84.2,218.3) scale(5.60)\" xlink:href=\"#gpPt5\"/>\n",
       "\t<use color=\"rgb(255,   0, 255)\" transform=\"translate(88.1,218.3) scale(5.60)\" xlink:href=\"#gpPt5\"/>\n",
       "\t<use color=\"rgb(255,   0, 255)\" transform=\"translate(91.9,218.3) scale(5.60)\" xlink:href=\"#gpPt5\"/>\n",
       "\t<use color=\"rgb(255,   0, 255)\" transform=\"translate(95.8,218.3) scale(5.60)\" xlink:href=\"#gpPt5\"/>\n",
       "\t<use color=\"rgb(255,   0, 255)\" transform=\"translate(99.7,218.3) scale(5.60)\" xlink:href=\"#gpPt5\"/>\n",
       "\t<use color=\"rgb(255,   0, 255)\" transform=\"translate(103.5,218.3) scale(5.60)\" xlink:href=\"#gpPt5\"/>\n",
       "\t<use color=\"rgb(255,   0, 255)\" transform=\"translate(107.4,218.3) scale(5.60)\" xlink:href=\"#gpPt5\"/>\n",
       "\t<use color=\"rgb(255,   0, 255)\" transform=\"translate(64.9,218.3) scale(5.60)\" xlink:href=\"#gpPt5\"/>\n",
       "\t<use color=\"rgb(255,   0, 255)\" transform=\"translate(66.8,218.3) scale(5.60)\" xlink:href=\"#gpPt5\"/>\n",
       "\t<use color=\"rgb(255,   0, 255)\" transform=\"translate(68.7,218.3) scale(5.60)\" xlink:href=\"#gpPt5\"/>\n",
       "\t<use color=\"rgb(255,   0, 255)\" transform=\"translate(70.7,218.3) scale(5.60)\" xlink:href=\"#gpPt5\"/>\n",
       "\t<use color=\"rgb(255,   0, 255)\" transform=\"translate(72.6,218.3) scale(5.60)\" xlink:href=\"#gpPt5\"/>\n",
       "\t<use color=\"rgb(255,   0, 255)\" transform=\"translate(74.5,218.3) scale(5.60)\" xlink:href=\"#gpPt5\"/>\n",
       "\t<use color=\"rgb(255,   0, 255)\" transform=\"translate(76.5,218.3) scale(5.60)\" xlink:href=\"#gpPt5\"/>\n",
       "\t<use color=\"rgb(255,   0, 255)\" transform=\"translate(78.4,218.3) scale(5.60)\" xlink:href=\"#gpPt5\"/>\n",
       "\t<use color=\"rgb(255,   0, 255)\" transform=\"translate(57.1,218.3) scale(5.60)\" xlink:href=\"#gpPt5\"/>\n",
       "\t<use color=\"rgb(255,   0, 255)\" transform=\"translate(58.1,218.3) scale(5.60)\" xlink:href=\"#gpPt5\"/>\n",
       "\t<use color=\"rgb(255,   0, 255)\" transform=\"translate(59.1,218.3) scale(5.60)\" xlink:href=\"#gpPt5\"/>\n",
       "\t<use color=\"rgb(255,   0, 255)\" transform=\"translate(60.0,218.3) scale(5.60)\" xlink:href=\"#gpPt5\"/>\n",
       "\t<use color=\"rgb(255,   0, 255)\" transform=\"translate(61.0,218.3) scale(5.60)\" xlink:href=\"#gpPt5\"/>\n",
       "\t<use color=\"rgb(255,   0, 255)\" transform=\"translate(62.0,218.3) scale(5.60)\" xlink:href=\"#gpPt5\"/>\n",
       "\t<use color=\"rgb(255,   0, 255)\" transform=\"translate(62.9,218.3) scale(5.60)\" xlink:href=\"#gpPt5\"/>\n",
       "\t<use color=\"rgb(255,   0, 255)\" transform=\"translate(63.9,218.3) scale(5.60)\" xlink:href=\"#gpPt5\"/>\n",
       "</g>\n",
       "\t</g>\n",
       "<g color=\"#FFFFFF\" fill=\"none\" stroke=\"rgb(255,   0, 255)\" stroke-linecap=\"butt\" stroke-linejoin=\"miter\" stroke-width=\"2.00\">\n",
       "</g>\n",
       "<g color=\"black\" fill=\"none\" stroke=\"currentColor\" stroke-linecap=\"butt\" stroke-linejoin=\"miter\" stroke-width=\"2.00\">\n",
       "</g>\n",
       "<g color=\"black\" fill=\"none\" stroke=\"black\" stroke-linecap=\"butt\" stroke-linejoin=\"miter\" stroke-width=\"0.50\">\n",
       "\t<path d=\"M49.4,397.6 L544.3,397.6 M49.4,39.0 L544.3,39.0 M49.4,397.6 L49.4,39.0 M544.3,397.6 L544.3,39.0    \" stroke=\"rgb( 38,  38,  38)\"/></g>\n",
       "<g color=\"black\" fill=\"none\" stroke=\"rgb( 38,  38,  38)\" stroke-linecap=\"butt\" stroke-linejoin=\"miter\" stroke-width=\"1.00\">\n",
       "</g>\n",
       "<g color=\"black\" fill=\"none\" stroke=\"currentColor\" stroke-linecap=\"butt\" stroke-linejoin=\"miter\" stroke-width=\"1.00\">\n",
       "</g>\n",
       "</g>\n",
       "</svg>"
      ],
      "text/plain": [
       "<IPython.core.display.SVG object>"
      ]
     },
     "metadata": {},
     "output_type": "display_data"
    }
   ],
   "source": [
    "format long\n",
    "v=[8:15];\n",
    "for i=2:7\n",
    "    M(:,i)=v./2^i;\n",
    "end\n",
    "M(:,1) = [];\n",
    "size_of_set=size(M,1)*size(M,2);\n",
    "m=reshape(M,1,size_of_set);\n",
    "plot(m,zeros(1,size_of_set),'mo')\n",
    "axis([0 4 -0.001 0.001])\n",
    "title('M(2,4,-3,2) floating point numbers')"
   ]
  },
  {
   "cell_type": "code",
   "execution_count": 3,
   "metadata": {},
   "outputs": [
    {
     "name": "stdout",
     "output_type": "stream",
     "text": [
      "ans =    2.220446049250313e-16\n",
      "ans =   1.797693134862316e+308\n",
      "ans =   2.225073858507201e-308\n"
     ]
    }
   ],
   "source": [
    "% Octave eps, M_inf and eps_0\n",
    "eps\n",
    "realmax\n",
    "realmin"
   ]
  },
  {
   "cell_type": "markdown",
   "metadata": {},
   "source": [
    "<br>\n",
    "<br>\n",
    "Double precision\n",
    "<br>\n",
    "\n",
    "| $y$ | disctance from right\n",
    "| --- | --- | \n",
    "| $1$ | $\\approx 2.22 \\cdot 10^{-16}$| \n",
    "| $16$ | $\\approx 3.55 \\cdot 10^{-15}$ | \n",
    "| $1024$ | $\\approx 2.27 \\cdot 10^{-13}$ | \n",
    "| $2^{20} \\approx 10^6$ | $\\approx 2.33 \\cdot 10^{-10}$ | \n",
    "| $2^{52} \\approx 4.5 \\cdot 10^{15}$  | $1$ | \n",
    "| $2^{60} \\approx 1.15 \\cdot 10^{18}$ | $256$ | \n",
    "| $2^{66} \\approx 7.38 \\cdot 10^{19}$ | $8192$ | "
   ]
  },
  {
   "cell_type": "code",
   "execution_count": 7,
   "metadata": {},
   "outputs": [
    {
     "name": "stdout",
     "output_type": "stream",
     "text": [
      "ans = 1\n",
      "ans = 0\n"
     ]
    }
   ],
   "source": [
    "2^66 +8192 == 2^66\n",
    "2^66 +8193 == 2^66"
   ]
  },
  {
   "cell_type": "code",
   "execution_count": 3,
   "metadata": {},
   "outputs": [
    {
     "name": "stdout",
     "output_type": "stream",
     "text": [
      "ans =  NaN\r\n"
     ]
    }
   ],
   "source": [
    "nan\n",
    "%help nan\n",
    "%NaN(5)"
   ]
  },
  {
   "cell_type": "code",
   "execution_count": null,
   "metadata": {},
   "outputs": [],
   "source": []
  }
 ],
 "metadata": {
  "kernelspec": {
   "display_name": "Octave",
   "language": "octave",
   "name": "octave"
  },
  "language_info": {
   "file_extension": ".m",
   "help_links": [
    {
     "text": "GNU Octave",
     "url": "https://www.gnu.org/software/octave/support.html"
    },
    {
     "text": "Octave Kernel",
     "url": "https://github.com/Calysto/octave_kernel"
    },
    {
     "text": "MetaKernel Magics",
     "url": "https://metakernel.readthedocs.io/en/latest/source/README.html"
    }
   ],
   "mimetype": "text/x-octave",
   "name": "octave",
   "version": "5.1.0"
  }
 },
 "nbformat": 4,
 "nbformat_minor": 2
}
