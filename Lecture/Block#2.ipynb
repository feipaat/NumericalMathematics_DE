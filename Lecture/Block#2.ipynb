{
 "cells": [
  {
   "cell_type": "markdown",
   "metadata": {},
   "source": [
    "# <center>System of Linear Equations</center>\n",
    "## <center>Norm, condition number</center>"
   ]
  },
  {
   "cell_type": "code",
   "execution_count": 1,
   "metadata": {},
   "outputs": [
    {
     "name": "stdout",
     "output_type": "stream",
     "text": [
      "A =\r\n",
      "\r\n",
      "   1  -1  -1  -1  -1  -1  -1  -1  -1  -1\r\n",
      "   0   1  -1  -1  -1  -1  -1  -1  -1  -1\r\n",
      "   0   0   1  -1  -1  -1  -1  -1  -1  -1\r\n",
      "   0   0   0   1  -1  -1  -1  -1  -1  -1\r\n",
      "   0   0   0   0   1  -1  -1  -1  -1  -1\r\n",
      "   0   0   0   0   0   1  -1  -1  -1  -1\r\n",
      "   0   0   0   0   0   0   1  -1  -1  -1\r\n",
      "   0   0   0   0   0   0   0   1  -1  -1\r\n",
      "   0   0   0   0   0   0   0   0   1  -1\r\n",
      "   0   0   0   0   0   0   0   0   0   1\r\n",
      "\r\n"
     ]
    }
   ],
   "source": [
    "N=10;\n",
    "A=diag(ones(N,1))+triu(-ones (N), 1)\n",
    "b=[N-2:-1:0];\n",
    "b=[-b 1]';\n",
    "x=A\\b;\n",
    "max(x);"
   ]
  },
  {
   "cell_type": "code",
   "execution_count": 3,
   "metadata": {},
   "outputs": [
    {
     "name": "stdout",
     "output_type": "stream",
     "text": [
      "x =\n",
      "\n",
      "   1.0256\n",
      "   1.0128\n",
      "   1.0064\n",
      "   1.0032\n",
      "   1.0016\n",
      "   1.0008\n",
      "   1.0004\n",
      "   1.0002\n",
      "   1.0001\n",
      "   1.0001\n",
      "\n",
      "ans =  1.0256\n"
     ]
    }
   ],
   "source": [
    "b=[N-2:-1:0];\n",
    "b=[-b 1.0001]'; %% Changing the last component of the vector\n",
    "x=A\\b\n",
    "max(x)"
   ]
  },
  {
   "cell_type": "code",
   "execution_count": 7,
   "metadata": {},
   "outputs": [
    {
     "name": "stdout",
     "output_type": "stream",
     "text": [
      "x =\n",
      "\n",
      "  -4\n",
      "   1\n",
      "   8\n",
      "\n",
      "ans =  13\n",
      "ans =  9\n",
      "ans =  8\n"
     ]
    }
   ],
   "source": [
    "x=[-4 1 8]'\n",
    "norm(x,1)\n",
    "norm(x,2)\n",
    "norm(x,'inf')"
   ]
  },
  {
   "cell_type": "markdown",
   "metadata": {},
   "source": [
    "###  Unit ball of the plane for $p=1,2\\ \\infty$\n",
    "\n",
    "<img src=\"unitballs.png\" width=\"870\">\n",
    "\n"
   ]
  },
  {
   "cell_type": "code",
   "execution_count": 58,
   "metadata": {},
   "outputs": [],
   "source": [
    "% Showing the MATLAB animation for general p"
   ]
  },
  {
   "cell_type": "code",
   "execution_count": 10,
   "metadata": {},
   "outputs": [
    {
     "name": "stdout",
     "output_type": "stream",
     "text": [
      "A =\n",
      "\n",
      "   -4    3    4\n",
      "    5   11  -12\n",
      "    0    1    6\n",
      "\n",
      "ans =  22\n",
      "ans =  28\n"
     ]
    }
   ],
   "source": [
    "A=[-4 3 4; 5 11 -12; 0 1 6]\n",
    "norm(A,1)\n",
    "norm(A,'inf')"
   ]
  },
  {
   "cell_type": "code",
   "execution_count": 17,
   "metadata": {},
   "outputs": [
    {
     "name": "stdout",
     "output_type": "stream",
     "text": [
      "A =\n",
      "\n",
      "   3  -1\n",
      "  -2   2\n",
      "\n",
      "ans =  4.1306\n"
     ]
    }
   ],
   "source": [
    "A=[3 -1; -2 2]\n",
    "norm(A,2)"
   ]
  },
  {
   "cell_type": "code",
   "execution_count": 2,
   "metadata": {},
   "outputs": [
    {
     "name": "stdout",
     "output_type": "stream",
     "text": [
      "A =\n",
      "\n",
      "   1.0000   1.0000\n",
      "   1.0000   1.0100\n",
      "\n",
      "ans =  404.01\n",
      "ans =  402.01\n",
      "ans =  404.01\n"
     ]
    }
   ],
   "source": [
    "A=[1 1; 1 1.01]\n",
    "cond(A,1)\n",
    "cond(A,2)\n",
    "cond(A,'inf')"
   ]
  },
  {
   "cell_type": "code",
   "execution_count": 34,
   "metadata": {},
   "outputs": [
    {
     "name": "stdout",
     "output_type": "stream",
     "text": [
      "ans =  68719476736\n",
      "ans =  27877422859.77620\n",
      "ans =  68719476736\n"
     ]
    }
   ],
   "source": [
    "N=32;\n",
    "A=diag(ones(N,1))+triu(-ones (N), 1);\n",
    "cond(A,1)\n",
    "cond(A,2)\n",
    "cond(A,'inf')"
   ]
  },
  {
   "cell_type": "code",
   "execution_count": 1,
   "metadata": {},
   "outputs": [
    {
     "name": "stdout",
     "output_type": "stream",
     "text": [
      "first_1 =  10.075\n",
      "first_2 =  14.178\n",
      "first_inf =  20.100\n",
      "second_1 =  14746.66883\n",
      "second_2 =  28668.09870\n",
      "second_inf =  229064.92245\n"
     ]
    }
   ],
   "source": [
    "A=[1 1; 1 1.01];\n",
    "b=[2 2.01]';\n",
    "delta_b=[0 0.1]';\n",
    "first_1=cond(A,1)*norm(delta_b,1)/norm(b,1)\n",
    "first_2=cond(A,2)*norm(delta_b,2)/norm(b,2)\n",
    "first_inf=cond(A,'inf')*norm(delta_b,'inf')/norm(b,'inf')\n",
    "\n",
    "N=32; A=diag(ones(N,1))+triu(-ones (N), 1);\n",
    "b=[N-2:-1:0]; b=[-b 1]';\n",
    "delta_b=[zeros(1,N-1) 0.0001]';\n",
    "second_1=cond(A,1)*norm(delta_b,1)/norm(b,1)\n",
    "second_2=cond(A,2)*norm(delta_b,2)/norm(b,2)\n",
    "second_inf=cond(A,'inf')*norm(delta_b,'inf')/norm(b,'inf')"
   ]
  },
  {
   "cell_type": "markdown",
   "metadata": {},
   "source": [
    "## <center>Direct methods for solving system of linear equations</center>"
   ]
  },
  {
   "cell_type": "code",
   "execution_count": 2,
   "metadata": {},
   "outputs": [
    {
     "name": "stdout",
     "output_type": "stream",
     "text": [
      "   2.00   0.00\n",
      "   4.00   0.00\n",
      "   8.00   0.00\n",
      "   16.00    0.00\n",
      "   32.00    0.00\n",
      "   64.00    0.00\n",
      "   128.00     0.00\n",
      "   256.00     0.01\n",
      "   512.00     0.03\n",
      "   1024.00      0.14\n",
      "   2048.00      0.48\n",
      "   4096.00      2.82\n",
      "   8192.00     18.02\n",
      "   16384.00     266.09\n"
     ]
    },
    {
     "data": {
      "image/svg+xml": [
       "<svg height=\"420px\" viewBox=\"0 0 560 420\" width=\"560px\" xmlns=\"http://www.w3.org/2000/svg\" xmlns:xlink=\"http://www.w3.org/1999/xlink\">\n",
       "\n",
       "<title>Gnuplot</title>\n",
       "<desc>Produced by GNUPLOT 5.2 patchlevel 8 </desc>\n",
       "\n",
       "<g id=\"gnuplot_canvas\">\n",
       "\n",
       "<rect fill=\"#ffffff\" height=\"420\" width=\"560\" x=\"0\" y=\"0\"/>\n",
       "<defs>\n",
       "\n",
       "\t<circle id=\"gpDot\" r=\"0.5\" stroke=\"currentColor\" stroke-width=\"0.5\"/>\n",
       "\t<path d=\"M-1,0 h2 M0,-1 v2\" id=\"gpPt0\" stroke=\"currentColor\" stroke-width=\"0.357\"/>\n",
       "\t<path d=\"M-1,-1 L1,1 M1,-1 L-1,1\" id=\"gpPt1\" stroke=\"currentColor\" stroke-width=\"0.357\"/>\n",
       "\t<path d=\"M-1,0 L1,0 M0,-1 L0,1 M-1,-1 L1,1 M-1,1 L1,-1\" id=\"gpPt2\" stroke=\"currentColor\" stroke-width=\"0.357\"/>\n",
       "\t<rect height=\"2\" id=\"gpPt3\" stroke=\"currentColor\" stroke-width=\"0.357\" width=\"2\" x=\"-1\" y=\"-1\"/>\n",
       "\t<rect fill=\"currentColor\" height=\"2\" id=\"gpPt4\" stroke=\"currentColor\" stroke-width=\"0.357\" width=\"2\" x=\"-1\" y=\"-1\"/>\n",
       "\t<circle cx=\"0\" cy=\"0\" id=\"gpPt5\" r=\"1\" stroke=\"currentColor\" stroke-width=\"0.357\"/>\n",
       "\t<use fill=\"currentColor\" id=\"gpPt6\" stroke=\"none\" xlink:href=\"#gpPt5\"/>\n",
       "\t<path d=\"M0,-1.33 L-1.33,0.67 L1.33,0.67 z\" id=\"gpPt7\" stroke=\"currentColor\" stroke-width=\"0.357\"/>\n",
       "\t<use fill=\"currentColor\" id=\"gpPt8\" stroke=\"none\" xlink:href=\"#gpPt7\"/>\n",
       "\t<use id=\"gpPt9\" stroke=\"currentColor\" transform=\"rotate(180)\" xlink:href=\"#gpPt7\"/>\n",
       "\t<use fill=\"currentColor\" id=\"gpPt10\" stroke=\"none\" xlink:href=\"#gpPt9\"/>\n",
       "\t<use id=\"gpPt11\" stroke=\"currentColor\" transform=\"rotate(45)\" xlink:href=\"#gpPt3\"/>\n",
       "\t<use fill=\"currentColor\" id=\"gpPt12\" stroke=\"none\" xlink:href=\"#gpPt11\"/>\n",
       "\t<path d=\"M0,1.330 L1.265,0.411 L0.782,-1.067 L-0.782,-1.076 L-1.265,0.411 z\" id=\"gpPt13\" stroke=\"currentColor\" stroke-width=\"0.357\"/>\n",
       "\t<use fill=\"currentColor\" id=\"gpPt14\" stroke=\"none\" xlink:href=\"#gpPt13\"/>\n",
       "\t<filter filterUnits=\"objectBoundingBox\" height=\"1\" id=\"textbox\" width=\"1\" x=\"0\" y=\"0\">\n",
       "\t  <feFlood flood-color=\"#FFFFFF\" flood-opacity=\"1\" result=\"bgnd\"/>\n",
       "\t  <feComposite in=\"SourceGraphic\" in2=\"bgnd\" operator=\"atop\"/>\n",
       "\t</filter>\n",
       "\t<filter filterUnits=\"objectBoundingBox\" height=\"1\" id=\"greybox\" width=\"1\" x=\"0\" y=\"0\">\n",
       "\t  <feFlood flood-color=\"lightgrey\" flood-opacity=\"1\" result=\"grey\"/>\n",
       "\t  <feComposite in=\"SourceGraphic\" in2=\"grey\" operator=\"atop\"/>\n",
       "\t</filter>\n",
       "</defs>\n",
       "<g color=\"#FFFFFF\" fill=\"none\" stroke=\"currentColor\" stroke-linecap=\"butt\" stroke-linejoin=\"miter\" stroke-width=\"1.00\">\n",
       "</g>\n",
       "<g color=\"black\" fill=\"none\" stroke=\"currentColor\" stroke-linecap=\"butt\" stroke-linejoin=\"miter\" stroke-width=\"1.00\">\n",
       "\t<g shape-rendering=\"crispEdges\" stroke=\"none\">\n",
       "\t\t<polygon fill=\"rgb(255, 255, 255)\" points=\"39.8,384.2 541.7,384.2 541.7,11.4 39.8,11.4 \"/>\n",
       "\t</g>\n",
       "</g>\n",
       "<g color=\"black\" fill=\"none\" stroke=\"currentColor\" stroke-linecap=\"butt\" stroke-linejoin=\"miter\" stroke-width=\"1.00\">\n",
       "\t<path d=\"M39.8,384.2 L47.6,384.2 M541.8,384.2 L534.0,384.2  \" stroke=\"rgb(  0,   0,   0)\"/>\t<g fill=\"rgb(38,38,38)\" font-family=\"Arial\" font-size=\"10.00\" stroke=\"none\" text-anchor=\"end\" transform=\"translate(34.6,387.5)\">\n",
       "\t\t<text><tspan font-family=\"Arial\">0</tspan></text>\n",
       "\t</g>\n",
       "</g>\n",
       "<g color=\"black\" fill=\"none\" stroke=\"currentColor\" stroke-linecap=\"butt\" stroke-linejoin=\"miter\" stroke-width=\"1.00\">\n",
       "\t<path d=\"M39.8,322.0 L47.6,322.0 M541.8,322.0 L534.0,322.0  \" stroke=\"rgb(  0,   0,   0)\"/>\t<g fill=\"rgb(38,38,38)\" font-family=\"Arial\" font-size=\"10.00\" stroke=\"none\" text-anchor=\"end\" transform=\"translate(34.6,325.3)\">\n",
       "\t\t<text><tspan font-family=\"Arial\">50</tspan></text>\n",
       "\t</g>\n",
       "</g>\n",
       "<g color=\"black\" fill=\"none\" stroke=\"currentColor\" stroke-linecap=\"butt\" stroke-linejoin=\"miter\" stroke-width=\"1.00\">\n",
       "\t<path d=\"M39.8,259.9 L47.6,259.9 M541.8,259.9 L534.0,259.9  \" stroke=\"rgb(  0,   0,   0)\"/>\t<g fill=\"rgb(38,38,38)\" font-family=\"Arial\" font-size=\"10.00\" stroke=\"none\" text-anchor=\"end\" transform=\"translate(34.6,263.2)\">\n",
       "\t\t<text><tspan font-family=\"Arial\">100</tspan></text>\n",
       "\t</g>\n",
       "</g>\n",
       "<g color=\"black\" fill=\"none\" stroke=\"currentColor\" stroke-linecap=\"butt\" stroke-linejoin=\"miter\" stroke-width=\"1.00\">\n",
       "\t<path d=\"M39.8,197.7 L47.6,197.7 M541.8,197.7 L534.0,197.7  \" stroke=\"rgb(  0,   0,   0)\"/>\t<g fill=\"rgb(38,38,38)\" font-family=\"Arial\" font-size=\"10.00\" stroke=\"none\" text-anchor=\"end\" transform=\"translate(34.6,201.0)\">\n",
       "\t\t<text><tspan font-family=\"Arial\">150</tspan></text>\n",
       "\t</g>\n",
       "</g>\n",
       "<g color=\"black\" fill=\"none\" stroke=\"currentColor\" stroke-linecap=\"butt\" stroke-linejoin=\"miter\" stroke-width=\"1.00\">\n",
       "\t<path d=\"M39.8,135.6 L47.6,135.6 M541.8,135.6 L534.0,135.6  \" stroke=\"rgb(  0,   0,   0)\"/>\t<g fill=\"rgb(38,38,38)\" font-family=\"Arial\" font-size=\"10.00\" stroke=\"none\" text-anchor=\"end\" transform=\"translate(34.6,138.9)\">\n",
       "\t\t<text><tspan font-family=\"Arial\">200</tspan></text>\n",
       "\t</g>\n",
       "</g>\n",
       "<g color=\"black\" fill=\"none\" stroke=\"currentColor\" stroke-linecap=\"butt\" stroke-linejoin=\"miter\" stroke-width=\"1.00\">\n",
       "\t<path d=\"M39.8,73.4 L47.6,73.4 M541.8,73.4 L534.0,73.4  \" stroke=\"rgb(  0,   0,   0)\"/>\t<g fill=\"rgb(38,38,38)\" font-family=\"Arial\" font-size=\"10.00\" stroke=\"none\" text-anchor=\"end\" transform=\"translate(34.6,76.7)\">\n",
       "\t\t<text><tspan font-family=\"Arial\">250</tspan></text>\n",
       "\t</g>\n",
       "</g>\n",
       "<g color=\"black\" fill=\"none\" stroke=\"currentColor\" stroke-linecap=\"butt\" stroke-linejoin=\"miter\" stroke-width=\"1.00\">\n",
       "\t<path d=\"M39.8,11.3 L47.6,11.3 M541.8,11.3 L534.0,11.3  \" stroke=\"rgb(  0,   0,   0)\"/>\t<g fill=\"rgb(38,38,38)\" font-family=\"Arial\" font-size=\"10.00\" stroke=\"none\" text-anchor=\"end\" transform=\"translate(34.6,14.6)\">\n",
       "\t\t<text><tspan font-family=\"Arial\">300</tspan></text>\n",
       "\t</g>\n",
       "</g>\n",
       "<g color=\"black\" fill=\"none\" stroke=\"currentColor\" stroke-linecap=\"butt\" stroke-linejoin=\"miter\" stroke-width=\"1.00\">\n",
       "\t<path d=\"M39.8,384.2 L39.8,376.4 M39.8,11.3 L39.8,19.1  \" stroke=\"rgb(  0,   0,   0)\"/>\t<g fill=\"rgb(38,38,38)\" font-family=\"Arial\" font-size=\"10.00\" stroke=\"none\" text-anchor=\"middle\" transform=\"translate(39.8,398.7)\">\n",
       "\t\t<text><tspan font-family=\"Arial\">0</tspan></text>\n",
       "\t</g>\n",
       "</g>\n",
       "<g color=\"black\" fill=\"none\" stroke=\"currentColor\" stroke-linecap=\"butt\" stroke-linejoin=\"miter\" stroke-width=\"1.00\">\n",
       "\t<path d=\"M165.3,384.2 L165.3,376.4 M165.3,11.3 L165.3,19.1  \" stroke=\"rgb(  0,   0,   0)\"/>\t<g fill=\"rgb(38,38,38)\" font-family=\"Arial\" font-size=\"10.00\" stroke=\"none\" text-anchor=\"middle\" transform=\"translate(165.3,398.7)\">\n",
       "\t\t<text><tspan font-family=\"Arial\">5000</tspan></text>\n",
       "\t</g>\n",
       "</g>\n",
       "<g color=\"black\" fill=\"none\" stroke=\"currentColor\" stroke-linecap=\"butt\" stroke-linejoin=\"miter\" stroke-width=\"1.00\">\n",
       "\t<path d=\"M290.8,384.2 L290.8,376.4 M290.8,11.3 L290.8,19.1  \" stroke=\"rgb(  0,   0,   0)\"/>\t<g fill=\"rgb(38,38,38)\" font-family=\"Arial\" font-size=\"10.00\" stroke=\"none\" text-anchor=\"middle\" transform=\"translate(290.8,398.7)\">\n",
       "\t\t<text><tspan font-family=\"Arial\">10000</tspan></text>\n",
       "\t</g>\n",
       "</g>\n",
       "<g color=\"black\" fill=\"none\" stroke=\"currentColor\" stroke-linecap=\"butt\" stroke-linejoin=\"miter\" stroke-width=\"1.00\">\n",
       "\t<path d=\"M416.3,384.2 L416.3,376.4 M416.3,11.3 L416.3,19.1  \" stroke=\"rgb(  0,   0,   0)\"/>\t<g fill=\"rgb(38,38,38)\" font-family=\"Arial\" font-size=\"10.00\" stroke=\"none\" text-anchor=\"middle\" transform=\"translate(416.3,398.7)\">\n",
       "\t\t<text><tspan font-family=\"Arial\">15000</tspan></text>\n",
       "\t</g>\n",
       "</g>\n",
       "<g color=\"black\" fill=\"none\" stroke=\"currentColor\" stroke-linecap=\"butt\" stroke-linejoin=\"miter\" stroke-width=\"1.00\">\n",
       "\t<path d=\"M541.8,384.2 L541.8,376.4 M541.8,11.3 L541.8,19.1  \" stroke=\"rgb(  0,   0,   0)\"/>\t<g fill=\"rgb(38,38,38)\" font-family=\"Arial\" font-size=\"10.00\" stroke=\"none\" text-anchor=\"middle\" transform=\"translate(541.8,398.7)\">\n",
       "\t\t<text><tspan font-family=\"Arial\">20000</tspan></text>\n",
       "\t</g>\n",
       "</g>\n",
       "<g color=\"black\" fill=\"none\" stroke=\"currentColor\" stroke-linecap=\"butt\" stroke-linejoin=\"miter\" stroke-width=\"1.00\">\n",
       "</g>\n",
       "<g color=\"black\" fill=\"none\" stroke=\"currentColor\" stroke-linecap=\"butt\" stroke-linejoin=\"miter\" stroke-width=\"1.00\">\n",
       "\t<g fill=\"rgb(38,38,38)\" font-family=\"Arial\" font-size=\"11.00\" stroke=\"none\" text-anchor=\"middle\" transform=\"translate(13.0,197.8) rotate(-90)\">\n",
       "\t\t<text><tspan font-family=\"Arial\">Time (sec)</tspan></text>\n",
       "\t</g>\n",
       "</g>\n",
       "<g color=\"black\" fill=\"none\" stroke=\"currentColor\" stroke-linecap=\"butt\" stroke-linejoin=\"miter\" stroke-width=\"1.00\">\n",
       "\t<g fill=\"rgb(38,38,38)\" font-family=\"Arial\" font-size=\"11.00\" stroke=\"none\" text-anchor=\"middle\" transform=\"translate(290.8,415.8)\">\n",
       "\t\t<text><tspan font-family=\"Arial\">Dimension</tspan></text>\n",
       "\t</g>\n",
       "</g>\n",
       "<g color=\"black\" fill=\"none\" stroke=\"currentColor\" stroke-linecap=\"butt\" stroke-linejoin=\"miter\" stroke-width=\"1.00\">\n",
       "</g>\n",
       "\t<g id=\"gnuplot_plot_1a\"><title>gnuplot_plot_1a</title>\n",
       "<g color=\"#FFFFFF\" fill=\"none\" stroke=\"currentColor\" stroke-linecap=\"butt\" stroke-linejoin=\"miter\" stroke-width=\"0.50\">\n",
       "</g>\n",
       "<g color=\"black\" fill=\"none\" stroke=\"currentColor\" stroke-linecap=\"butt\" stroke-linejoin=\"miter\" stroke-width=\"0.50\">\n",
       "\t<path d=\"M39.9,384.2 L40.0,384.2 L40.2,384.2 L40.6,384.2 L41.4,384.2 L43.0,384.2 L46.2,384.2 L52.7,384.2   L65.5,384.0 L91.2,383.6 L142.6,380.7 L245.4,361.8 L451.0,53.5  \" stroke=\"rgb(  0, 114, 189)\"/></g>\n",
       "\t</g>\n",
       "<g color=\"#FFFFFF\" fill=\"none\" stroke=\"rgb(  0, 114, 189)\" stroke-linecap=\"butt\" stroke-linejoin=\"miter\" stroke-width=\"2.00\">\n",
       "</g>\n",
       "<g color=\"black\" fill=\"none\" stroke=\"currentColor\" stroke-linecap=\"butt\" stroke-linejoin=\"miter\" stroke-width=\"2.00\">\n",
       "</g>\n",
       "<g color=\"black\" fill=\"none\" stroke=\"black\" stroke-linecap=\"butt\" stroke-linejoin=\"miter\" stroke-width=\"0.50\">\n",
       "\t<path d=\"M39.8,384.2 L541.8,384.2 M39.8,11.3 L541.8,11.3 M39.8,384.2 L39.8,11.3 M541.8,384.2 L541.8,11.3    \" stroke=\"rgb( 38,  38,  38)\"/></g>\n",
       "<g color=\"black\" fill=\"none\" stroke=\"rgb( 38,  38,  38)\" stroke-linecap=\"butt\" stroke-linejoin=\"miter\" stroke-width=\"1.00\">\n",
       "</g>\n",
       "<g color=\"black\" fill=\"none\" stroke=\"currentColor\" stroke-linecap=\"butt\" stroke-linejoin=\"miter\" stroke-width=\"1.00\">\n",
       "</g>\n",
       "</g>\n",
       "</svg>"
      ],
      "text/plain": [
       "<IPython.core.display.SVG object>"
      ]
     },
     "metadata": {},
     "output_type": "display_data"
    }
   ],
   "source": [
    "format bank\n",
    "for j=1:14\n",
    "    N=2^j;\n",
    "    A=randn(N);\n",
    "    tic\n",
    "    A\\ones(N,1);\n",
    "    t=toc;\n",
    "    disp([N,t]);\n",
    "    dim(j)=N;\n",
    "    time(j)=t;\n",
    "end\n",
    "plot(dim,time,'-')\n",
    "xlabel('Dimension')\n",
    "ylabel('Time (sec)')"
   ]
  },
  {
   "cell_type": "code",
   "execution_count": 9,
   "metadata": {},
   "outputs": [
    {
     "data": {
      "image/svg+xml": [
       "<svg height=\"420px\" viewBox=\"0 0 560 420\" width=\"560px\" xmlns=\"http://www.w3.org/2000/svg\" xmlns:xlink=\"http://www.w3.org/1999/xlink\">\n",
       "\n",
       "<title>Gnuplot</title>\n",
       "<desc>Produced by GNUPLOT 5.2 patchlevel 8 </desc>\n",
       "\n",
       "<g id=\"gnuplot_canvas\">\n",
       "\n",
       "<rect fill=\"#ffffff\" height=\"420\" width=\"560\" x=\"0\" y=\"0\"/>\n",
       "<defs>\n",
       "\n",
       "\t<circle id=\"gpDot\" r=\"0.5\" stroke=\"currentColor\" stroke-width=\"0.5\"/>\n",
       "\t<path d=\"M-1,0 h2 M0,-1 v2\" id=\"gpPt0\" stroke=\"currentColor\" stroke-width=\"0.357\"/>\n",
       "\t<path d=\"M-1,-1 L1,1 M1,-1 L-1,1\" id=\"gpPt1\" stroke=\"currentColor\" stroke-width=\"0.357\"/>\n",
       "\t<path d=\"M-1,0 L1,0 M0,-1 L0,1 M-1,-1 L1,1 M-1,1 L1,-1\" id=\"gpPt2\" stroke=\"currentColor\" stroke-width=\"0.357\"/>\n",
       "\t<rect height=\"2\" id=\"gpPt3\" stroke=\"currentColor\" stroke-width=\"0.357\" width=\"2\" x=\"-1\" y=\"-1\"/>\n",
       "\t<rect fill=\"currentColor\" height=\"2\" id=\"gpPt4\" stroke=\"currentColor\" stroke-width=\"0.357\" width=\"2\" x=\"-1\" y=\"-1\"/>\n",
       "\t<circle cx=\"0\" cy=\"0\" id=\"gpPt5\" r=\"1\" stroke=\"currentColor\" stroke-width=\"0.357\"/>\n",
       "\t<use fill=\"currentColor\" id=\"gpPt6\" stroke=\"none\" xlink:href=\"#gpPt5\"/>\n",
       "\t<path d=\"M0,-1.33 L-1.33,0.67 L1.33,0.67 z\" id=\"gpPt7\" stroke=\"currentColor\" stroke-width=\"0.357\"/>\n",
       "\t<use fill=\"currentColor\" id=\"gpPt8\" stroke=\"none\" xlink:href=\"#gpPt7\"/>\n",
       "\t<use id=\"gpPt9\" stroke=\"currentColor\" transform=\"rotate(180)\" xlink:href=\"#gpPt7\"/>\n",
       "\t<use fill=\"currentColor\" id=\"gpPt10\" stroke=\"none\" xlink:href=\"#gpPt9\"/>\n",
       "\t<use id=\"gpPt11\" stroke=\"currentColor\" transform=\"rotate(45)\" xlink:href=\"#gpPt3\"/>\n",
       "\t<use fill=\"currentColor\" id=\"gpPt12\" stroke=\"none\" xlink:href=\"#gpPt11\"/>\n",
       "\t<path d=\"M0,1.330 L1.265,0.411 L0.782,-1.067 L-0.782,-1.076 L-1.265,0.411 z\" id=\"gpPt13\" stroke=\"currentColor\" stroke-width=\"0.357\"/>\n",
       "\t<use fill=\"currentColor\" id=\"gpPt14\" stroke=\"none\" xlink:href=\"#gpPt13\"/>\n",
       "\t<filter filterUnits=\"objectBoundingBox\" height=\"1\" id=\"textbox\" width=\"1\" x=\"0\" y=\"0\">\n",
       "\t  <feFlood flood-color=\"#FFFFFF\" flood-opacity=\"1\" result=\"bgnd\"/>\n",
       "\t  <feComposite in=\"SourceGraphic\" in2=\"bgnd\" operator=\"atop\"/>\n",
       "\t</filter>\n",
       "\t<filter filterUnits=\"objectBoundingBox\" height=\"1\" id=\"greybox\" width=\"1\" x=\"0\" y=\"0\">\n",
       "\t  <feFlood flood-color=\"lightgrey\" flood-opacity=\"1\" result=\"grey\"/>\n",
       "\t  <feComposite in=\"SourceGraphic\" in2=\"grey\" operator=\"atop\"/>\n",
       "\t</filter>\n",
       "</defs>\n",
       "<g color=\"#FFFFFF\" fill=\"none\" stroke=\"currentColor\" stroke-linecap=\"butt\" stroke-linejoin=\"miter\" stroke-width=\"1.00\">\n",
       "</g>\n",
       "<g color=\"black\" fill=\"none\" stroke=\"currentColor\" stroke-linecap=\"butt\" stroke-linejoin=\"miter\" stroke-width=\"1.00\">\n",
       "\t<g shape-rendering=\"crispEdges\" stroke=\"none\">\n",
       "\t\t<polygon fill=\"rgb(255, 255, 255)\" points=\"39.8,384.2 544.2,384.2 544.2,49.6 39.8,49.6 \"/>\n",
       "\t</g>\n",
       "</g>\n",
       "<g color=\"black\" fill=\"none\" stroke=\"currentColor\" stroke-linecap=\"butt\" stroke-linejoin=\"miter\" stroke-width=\"1.00\">\n",
       "\t<path d=\"M39.8,384.2 L47.6,384.2 M544.3,384.2 L536.5,384.2  \" stroke=\"rgb(  0,   0,   0)\"/>\t<g fill=\"rgb(38,38,38)\" font-family=\"Arial\" font-size=\"10.00\" stroke=\"none\" text-anchor=\"end\" transform=\"translate(34.6,387.5)\">\n",
       "\t\t<text><tspan font-family=\"Arial\">10</tspan><tspan dy=\"-5.00px\" font-family=\"Arial\" font-size=\"8.0\">-5</tspan><tspan dy=\"5.00\" font-size=\"10.0\"/></text>\n",
       "\t</g>\n",
       "</g>\n",
       "<g color=\"black\" fill=\"none\" stroke=\"currentColor\" stroke-linecap=\"butt\" stroke-linejoin=\"miter\" stroke-width=\"1.00\">\n",
       "\t<path d=\"M39.8,336.4 L47.6,336.4 M544.3,336.4 L536.5,336.4  \" stroke=\"rgb(  0,   0,   0)\"/>\t<g fill=\"rgb(38,38,38)\" font-family=\"Arial\" font-size=\"10.00\" stroke=\"none\" text-anchor=\"end\" transform=\"translate(34.6,339.7)\">\n",
       "\t\t<text><tspan font-family=\"Arial\">10</tspan><tspan dy=\"-5.00px\" font-family=\"Arial\" font-size=\"8.0\">-4</tspan><tspan dy=\"5.00\" font-size=\"10.0\"/></text>\n",
       "\t</g>\n",
       "</g>\n",
       "<g color=\"black\" fill=\"none\" stroke=\"currentColor\" stroke-linecap=\"butt\" stroke-linejoin=\"miter\" stroke-width=\"1.00\">\n",
       "\t<path d=\"M39.8,288.6 L47.6,288.6 M544.3,288.6 L536.5,288.6  \" stroke=\"rgb(  0,   0,   0)\"/>\t<g fill=\"rgb(38,38,38)\" font-family=\"Arial\" font-size=\"10.00\" stroke=\"none\" text-anchor=\"end\" transform=\"translate(34.6,291.9)\">\n",
       "\t\t<text><tspan font-family=\"Arial\">10</tspan><tspan dy=\"-5.00px\" font-family=\"Arial\" font-size=\"8.0\">-3</tspan><tspan dy=\"5.00\" font-size=\"10.0\"/></text>\n",
       "\t</g>\n",
       "</g>\n",
       "<g color=\"black\" fill=\"none\" stroke=\"currentColor\" stroke-linecap=\"butt\" stroke-linejoin=\"miter\" stroke-width=\"1.00\">\n",
       "\t<path d=\"M39.8,240.8 L47.6,240.8 M544.3,240.8 L536.5,240.8  \" stroke=\"rgb(  0,   0,   0)\"/>\t<g fill=\"rgb(38,38,38)\" font-family=\"Arial\" font-size=\"10.00\" stroke=\"none\" text-anchor=\"end\" transform=\"translate(34.6,244.1)\">\n",
       "\t\t<text><tspan font-family=\"Arial\">10</tspan><tspan dy=\"-5.00px\" font-family=\"Arial\" font-size=\"8.0\">-2</tspan><tspan dy=\"5.00\" font-size=\"10.0\"/></text>\n",
       "\t</g>\n",
       "</g>\n",
       "<g color=\"black\" fill=\"none\" stroke=\"currentColor\" stroke-linecap=\"butt\" stroke-linejoin=\"miter\" stroke-width=\"1.00\">\n",
       "\t<path d=\"M39.8,192.9 L47.6,192.9 M544.3,192.9 L536.5,192.9  \" stroke=\"rgb(  0,   0,   0)\"/>\t<g fill=\"rgb(38,38,38)\" font-family=\"Arial\" font-size=\"10.00\" stroke=\"none\" text-anchor=\"end\" transform=\"translate(34.6,196.2)\">\n",
       "\t\t<text><tspan font-family=\"Arial\">10</tspan><tspan dy=\"-5.00px\" font-family=\"Arial\" font-size=\"8.0\">-1</tspan><tspan dy=\"5.00\" font-size=\"10.0\"/></text>\n",
       "\t</g>\n",
       "</g>\n",
       "<g color=\"black\" fill=\"none\" stroke=\"currentColor\" stroke-linecap=\"butt\" stroke-linejoin=\"miter\" stroke-width=\"1.00\">\n",
       "\t<path d=\"M39.8,145.1 L47.6,145.1 M544.3,145.1 L536.5,145.1  \" stroke=\"rgb(  0,   0,   0)\"/>\t<g fill=\"rgb(38,38,38)\" font-family=\"Arial\" font-size=\"10.00\" stroke=\"none\" text-anchor=\"end\" transform=\"translate(34.6,148.4)\">\n",
       "\t\t<text><tspan font-family=\"Arial\">10</tspan><tspan dy=\"-5.00px\" font-family=\"Arial\" font-size=\"8.0\">0</tspan><tspan dy=\"5.00\" font-size=\"10.0\"/></text>\n",
       "\t</g>\n",
       "</g>\n",
       "<g color=\"black\" fill=\"none\" stroke=\"currentColor\" stroke-linecap=\"butt\" stroke-linejoin=\"miter\" stroke-width=\"1.00\">\n",
       "\t<path d=\"M39.8,97.3 L47.6,97.3 M544.3,97.3 L536.5,97.3  \" stroke=\"rgb(  0,   0,   0)\"/>\t<g fill=\"rgb(38,38,38)\" font-family=\"Arial\" font-size=\"10.00\" stroke=\"none\" text-anchor=\"end\" transform=\"translate(34.6,100.6)\">\n",
       "\t\t<text><tspan font-family=\"Arial\">10</tspan><tspan dy=\"-5.00px\" font-family=\"Arial\" font-size=\"8.0\">1</tspan><tspan dy=\"5.00\" font-size=\"10.0\"/></text>\n",
       "\t</g>\n",
       "</g>\n",
       "<g color=\"black\" fill=\"none\" stroke=\"currentColor\" stroke-linecap=\"butt\" stroke-linejoin=\"miter\" stroke-width=\"1.00\">\n",
       "\t<path d=\"M39.8,49.5 L47.6,49.5 M544.3,49.5 L536.5,49.5  \" stroke=\"rgb(  0,   0,   0)\"/>\t<g fill=\"rgb(38,38,38)\" font-family=\"Arial\" font-size=\"10.00\" stroke=\"none\" text-anchor=\"end\" transform=\"translate(34.6,52.8)\">\n",
       "\t\t<text><tspan font-family=\"Arial\">10</tspan><tspan dy=\"-5.00px\" font-family=\"Arial\" font-size=\"8.0\">2</tspan><tspan dy=\"5.00\" font-size=\"10.0\"/></text>\n",
       "\t</g>\n",
       "</g>\n",
       "<g color=\"black\" fill=\"none\" stroke=\"currentColor\" stroke-linecap=\"butt\" stroke-linejoin=\"miter\" stroke-width=\"1.00\">\n",
       "\t<path d=\"M39.8,384.2 L39.8,376.4 M39.8,49.5 L39.8,57.3  \" stroke=\"rgb(  0,   0,   0)\"/>\t<g fill=\"rgb(38,38,38)\" font-family=\"Arial\" font-size=\"10.00\" stroke=\"none\" text-anchor=\"middle\" transform=\"translate(39.8,398.7)\">\n",
       "\t\t<text><tspan font-family=\"Arial\">10</tspan><tspan dy=\"-5.00px\" font-family=\"Arial\" font-size=\"8.0\">0</tspan><tspan dy=\"5.00\" font-size=\"10.0\"/></text>\n",
       "\t</g>\n",
       "</g>\n",
       "<g color=\"black\" fill=\"none\" stroke=\"currentColor\" stroke-linecap=\"butt\" stroke-linejoin=\"miter\" stroke-width=\"1.00\">\n",
       "\t<path d=\"M140.7,384.2 L140.7,376.4 M140.7,49.5 L140.7,57.3  \" stroke=\"rgb(  0,   0,   0)\"/>\t<g fill=\"rgb(38,38,38)\" font-family=\"Arial\" font-size=\"10.00\" stroke=\"none\" text-anchor=\"middle\" transform=\"translate(140.7,398.7)\">\n",
       "\t\t<text><tspan font-family=\"Arial\">10</tspan><tspan dy=\"-5.00px\" font-family=\"Arial\" font-size=\"8.0\">1</tspan><tspan dy=\"5.00\" font-size=\"10.0\"/></text>\n",
       "\t</g>\n",
       "</g>\n",
       "<g color=\"black\" fill=\"none\" stroke=\"currentColor\" stroke-linecap=\"butt\" stroke-linejoin=\"miter\" stroke-width=\"1.00\">\n",
       "\t<path d=\"M241.6,384.2 L241.6,376.4 M241.6,49.5 L241.6,57.3  \" stroke=\"rgb(  0,   0,   0)\"/>\t<g fill=\"rgb(38,38,38)\" font-family=\"Arial\" font-size=\"10.00\" stroke=\"none\" text-anchor=\"middle\" transform=\"translate(241.6,398.7)\">\n",
       "\t\t<text><tspan font-family=\"Arial\">10</tspan><tspan dy=\"-5.00px\" font-family=\"Arial\" font-size=\"8.0\">2</tspan><tspan dy=\"5.00\" font-size=\"10.0\"/></text>\n",
       "\t</g>\n",
       "</g>\n",
       "<g color=\"black\" fill=\"none\" stroke=\"currentColor\" stroke-linecap=\"butt\" stroke-linejoin=\"miter\" stroke-width=\"1.00\">\n",
       "\t<path d=\"M342.5,384.2 L342.5,376.4 M342.5,49.5 L342.5,57.3  \" stroke=\"rgb(  0,   0,   0)\"/>\t<g fill=\"rgb(38,38,38)\" font-family=\"Arial\" font-size=\"10.00\" stroke=\"none\" text-anchor=\"middle\" transform=\"translate(342.5,398.7)\">\n",
       "\t\t<text><tspan font-family=\"Arial\">10</tspan><tspan dy=\"-5.00px\" font-family=\"Arial\" font-size=\"8.0\">3</tspan><tspan dy=\"5.00\" font-size=\"10.0\"/></text>\n",
       "\t</g>\n",
       "</g>\n",
       "<g color=\"black\" fill=\"none\" stroke=\"currentColor\" stroke-linecap=\"butt\" stroke-linejoin=\"miter\" stroke-width=\"1.00\">\n",
       "\t<path d=\"M443.4,384.2 L443.4,376.4 M443.4,49.5 L443.4,57.3  \" stroke=\"rgb(  0,   0,   0)\"/>\t<g fill=\"rgb(38,38,38)\" font-family=\"Arial\" font-size=\"10.00\" stroke=\"none\" text-anchor=\"middle\" transform=\"translate(443.4,398.7)\">\n",
       "\t\t<text><tspan font-family=\"Arial\">10</tspan><tspan dy=\"-5.00px\" font-family=\"Arial\" font-size=\"8.0\">4</tspan><tspan dy=\"5.00\" font-size=\"10.0\"/></text>\n",
       "\t</g>\n",
       "</g>\n",
       "<g color=\"black\" fill=\"none\" stroke=\"currentColor\" stroke-linecap=\"butt\" stroke-linejoin=\"miter\" stroke-width=\"1.00\">\n",
       "\t<path d=\"M544.3,384.2 L544.3,376.4 M544.3,49.5 L544.3,57.3  \" stroke=\"rgb(  0,   0,   0)\"/>\t<g fill=\"rgb(38,38,38)\" font-family=\"Arial\" font-size=\"10.00\" stroke=\"none\" text-anchor=\"middle\" transform=\"translate(544.3,398.7)\">\n",
       "\t\t<text><tspan font-family=\"Arial\">10</tspan><tspan dy=\"-5.00px\" font-family=\"Arial\" font-size=\"8.0\">5</tspan><tspan dy=\"5.00\" font-size=\"10.0\"/></text>\n",
       "\t</g>\n",
       "</g>\n",
       "<g color=\"black\" fill=\"none\" stroke=\"currentColor\" stroke-linecap=\"butt\" stroke-linejoin=\"miter\" stroke-width=\"1.00\">\n",
       "</g>\n",
       "<g color=\"black\" fill=\"none\" stroke=\"currentColor\" stroke-linecap=\"butt\" stroke-linejoin=\"miter\" stroke-width=\"1.00\">\n",
       "\t<g fill=\"rgb(38,38,38)\" font-family=\"Arial\" font-size=\"11.00\" stroke=\"none\" text-anchor=\"middle\" transform=\"translate(13.0,216.9) rotate(-90)\">\n",
       "\t\t<text><tspan font-family=\"Arial\">Time (sec)</tspan></text>\n",
       "\t</g>\n",
       "</g>\n",
       "<g color=\"black\" fill=\"none\" stroke=\"currentColor\" stroke-linecap=\"butt\" stroke-linejoin=\"miter\" stroke-width=\"1.00\">\n",
       "\t<g fill=\"rgb(38,38,38)\" font-family=\"Arial\" font-size=\"11.00\" stroke=\"none\" text-anchor=\"middle\" transform=\"translate(292.0,415.8)\">\n",
       "\t\t<text><tspan font-family=\"Arial\">Dimension</tspan></text>\n",
       "\t</g>\n",
       "</g>\n",
       "<g color=\"black\" fill=\"none\" stroke=\"currentColor\" stroke-linecap=\"butt\" stroke-linejoin=\"miter\" stroke-width=\"1.00\">\n",
       "\t<g fill=\"rgb(0,0,0)\" font-family=\":Bold\" font-size=\"18.00\" stroke=\"none\" text-anchor=\"middle\" transform=\"translate(292.0,22.8)\">\n",
       "\t\t<text><tspan font-family=\"\" font-weight=\"bold\">The built-in solver</tspan></text>\n",
       "\t</g>\n",
       "</g>\n",
       "<g color=\"black\" fill=\"none\" stroke=\"currentColor\" stroke-linecap=\"butt\" stroke-linejoin=\"miter\" stroke-width=\"1.00\">\n",
       "</g>\n",
       "\t<g id=\"gnuplot_plot_1a\"><title>gnuplot_plot_1a</title>\n",
       "<g color=\"#FFFFFF\" fill=\"none\" stroke=\"currentColor\" stroke-linecap=\"butt\" stroke-linejoin=\"miter\" stroke-width=\"0.50\">\n",
       "</g>\n",
       "<g color=\"black\" fill=\"none\" stroke=\"currentColor\" stroke-linecap=\"butt\" stroke-linejoin=\"miter\" stroke-width=\"0.50\">\n",
       "\t<path d=\"M70.2,264.2 L100.5,325.3 L130.9,337.7 L161.3,332.8 L191.7,279.8 L222.0,298.5 L252.4,277.3 L282.8,254.3   L313.2,219.3 L343.5,185.4 L373.9,160.2 L404.3,123.6 L434.7,85.1 L453.9,49.5  \" stroke=\"rgb(  0, 114, 189)\"/>\t<use color=\"rgb(  0, 114, 189)\" transform=\"translate(70.2,264.2) scale(1.87)\" xlink:href=\"#gpPt6\"/>\n",
       "\t<use color=\"rgb(  0, 114, 189)\" transform=\"translate(100.5,325.3) scale(1.87)\" xlink:href=\"#gpPt6\"/>\n",
       "\t<use color=\"rgb(  0, 114, 189)\" transform=\"translate(130.9,337.7) scale(1.87)\" xlink:href=\"#gpPt6\"/>\n",
       "\t<use color=\"rgb(  0, 114, 189)\" transform=\"translate(161.3,332.8) scale(1.87)\" xlink:href=\"#gpPt6\"/>\n",
       "\t<use color=\"rgb(  0, 114, 189)\" transform=\"translate(191.7,279.8) scale(1.87)\" xlink:href=\"#gpPt6\"/>\n",
       "\t<use color=\"rgb(  0, 114, 189)\" transform=\"translate(222.0,298.5) scale(1.87)\" xlink:href=\"#gpPt6\"/>\n",
       "\t<use color=\"rgb(  0, 114, 189)\" transform=\"translate(252.4,277.3) scale(1.87)\" xlink:href=\"#gpPt6\"/>\n",
       "\t<use color=\"rgb(  0, 114, 189)\" transform=\"translate(282.8,254.3) scale(1.87)\" xlink:href=\"#gpPt6\"/>\n",
       "\t<use color=\"rgb(  0, 114, 189)\" transform=\"translate(313.2,219.3) scale(1.87)\" xlink:href=\"#gpPt6\"/>\n",
       "\t<use color=\"rgb(  0, 114, 189)\" transform=\"translate(343.5,185.4) scale(1.87)\" xlink:href=\"#gpPt6\"/>\n",
       "\t<use color=\"rgb(  0, 114, 189)\" transform=\"translate(373.9,160.2) scale(1.87)\" xlink:href=\"#gpPt6\"/>\n",
       "\t<use color=\"rgb(  0, 114, 189)\" transform=\"translate(404.3,123.6) scale(1.87)\" xlink:href=\"#gpPt6\"/>\n",
       "\t<use color=\"rgb(  0, 114, 189)\" transform=\"translate(434.7,85.1) scale(1.87)\" xlink:href=\"#gpPt6\"/>\n",
       "</g>\n",
       "\t</g>\n",
       "\t<g id=\"gnuplot_plot_2a\"><title>gnuplot_plot_2a</title>\n",
       "<g color=\"black\" fill=\"none\" stroke=\"currentColor\" stroke-linecap=\"butt\" stroke-linejoin=\"miter\" stroke-width=\"0.50\">\n",
       "\t<path d=\"M207.9,384.2 L222.0,364.2 L252.4,321.0 L282.8,277.8 L313.2,234.6 L343.5,191.5 L373.9,148.3 L404.3,105.1   L434.7,61.9 L443.3,49.5  \" stroke=\"rgb(255,   0,   0)\" stroke-dasharray=\"5.0,5.0\"/></g>\n",
       "\t</g>\n",
       "<g color=\"#FFFFFF\" fill=\"none\" stroke=\"rgb(255,   0,   0)\" stroke-linecap=\"butt\" stroke-linejoin=\"miter\" stroke-width=\"2.00\">\n",
       "</g>\n",
       "<g color=\"black\" fill=\"none\" stroke=\"currentColor\" stroke-linecap=\"butt\" stroke-linejoin=\"miter\" stroke-width=\"2.00\">\n",
       "</g>\n",
       "<g color=\"black\" fill=\"none\" stroke=\"black\" stroke-linecap=\"butt\" stroke-linejoin=\"miter\" stroke-width=\"0.50\">\n",
       "\t<path d=\"M39.8,384.2 L544.3,384.2 M39.8,49.5 L544.3,49.5 M39.8,384.2 L39.8,49.5 M544.3,384.2 L544.3,49.5    \" stroke=\"rgb( 38,  38,  38)\"/></g>\n",
       "<g color=\"black\" fill=\"none\" stroke=\"rgb( 38,  38,  38)\" stroke-linecap=\"butt\" stroke-linejoin=\"miter\" stroke-width=\"1.00\">\n",
       "</g>\n",
       "<g color=\"black\" fill=\"none\" stroke=\"currentColor\" stroke-linecap=\"butt\" stroke-linejoin=\"miter\" stroke-width=\"1.00\">\n",
       "</g>\n",
       "</g>\n",
       "</svg>"
      ],
      "text/plain": [
       "<IPython.core.display.SVG object>"
      ]
     },
     "metadata": {},
     "output_type": "display_data"
    }
   ],
   "source": [
    "loglog(dim,time,'.-')\n",
    "hold on \n",
    "loglog(dim,1e-10*dim.^3, 'r--')\n",
    "ylim([1e-5 1e2])\n",
    "xlabel('Dimension')\n",
    "ylabel('Time (sec)')\n",
    "title('The built-in solver','fontsize',18)\n",
    "% gtext('N^3','fontsize',18,'color','k') % Add this line if you have MATLAB"
   ]
  },
  {
   "cell_type": "markdown",
   "metadata": {},
   "source": [
    "<a href=\"https://www.top500.org/system/178513\">Official link for Hungarian supercomputer located in Debrecen on TOP500 website</a>"
   ]
  },
  {
   "cell_type": "markdown",
   "metadata": {},
   "source": [
    "<br>\n",
    "\n",
    "<div style=\"width:870 px\"></div>\n",
    "<div style=\"float:left\"><img src=\"db2_building_front.jpg\" width=\"350\"/></div>\n",
    "<div style=\"float:left\"><img src=\"db2_1.jpg\" width=\"500\"/></div>\n",
    "<div style=\"clear:both\"></div> \n",
    "<br>\n",
    "<br> "
   ]
  },
  {
   "cell_type": "code",
   "execution_count": 9,
   "metadata": {},
   "outputs": [
    {
     "name": "stdout",
     "output_type": "stream",
     "text": [
      "A =\n",
      "\n",
      "    5.00    7.00    3.00\n",
      "    7.00   11.00    2.00\n",
      "    3.00    2.00    6.00\n",
      "\n",
      "ans =\n",
      "\n",
      "    0.01\n",
      "    5.33\n",
      "   16.66\n",
      "\n",
      "L =\n",
      "\n",
      "   1.00   0.00   0.00\n",
      "   1.40   1.00   0.00\n",
      "   0.60  -1.83   1.00\n",
      "\n",
      "U =\n",
      "\n",
      "   5.00   7.00   3.00\n",
      "   0.00   1.20  -2.20\n",
      "   0.00   0.00   0.17\n",
      "\n",
      "ans =\n",
      "\n",
      "   5.00   7.00   3.00\n",
      "   0.00   1.20  -2.20\n",
      "   0.00   0.00   0.17\n",
      "\n"
     ]
    }
   ],
   "source": [
    "% Cholesky-decomposition\n",
    "A=[5 7 3; 7 11 2; 3 2 6]\n",
    "eig(A)\n",
    "L=[1 0 0; 7/5 1 0; 3/5 -11/6 1]\n",
    "U=[5 7 3; 0 6/5 -11/5; 0 0 1/6]\n",
    "diag(diag(U))*L'"
   ]
  },
  {
   "cell_type": "markdown",
   "metadata": {},
   "source": [
    "<br>\n",
    "\n",
    "Solving the system $Ax=b$ by using the direct solver <a href=\"https://www.mathworks.com/help/matlab/ref/mldivide.html\">backslah</a>, i.e. $x=A \\backslash b$\n",
    "<br>\n",
    "Dense matrix case\n",
    "<img src=\"backslahteli.png\" width=\"400\">\n",
    "<br>\n",
    "Sparse matrix case\n",
    "<img src=\"backslahritka.png\" width=\"400\">\n",
    "\n",
    "<br>"
   ]
  },
  {
   "cell_type": "code",
   "execution_count": null,
   "metadata": {},
   "outputs": [],
   "source": []
  },
  {
   "cell_type": "code",
   "execution_count": null,
   "metadata": {},
   "outputs": [],
   "source": []
  }
 ],
 "metadata": {
  "kernelspec": {
   "display_name": "Octave",
   "language": "octave",
   "name": "octave"
  },
  "language_info": {
   "file_extension": ".m",
   "help_links": [
    {
     "text": "GNU Octave",
     "url": "https://www.gnu.org/software/octave/support.html"
    },
    {
     "text": "Octave Kernel",
     "url": "https://github.com/Calysto/octave_kernel"
    },
    {
     "text": "MetaKernel Magics",
     "url": "https://metakernel.readthedocs.io/en/latest/source/README.html"
    }
   ],
   "mimetype": "text/x-octave",
   "name": "octave",
   "version": "5.1.0"
  }
 },
 "nbformat": 4,
 "nbformat_minor": 2
}
