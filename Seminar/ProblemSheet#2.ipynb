{
 "cells": [
  {
   "cell_type": "markdown",
   "metadata": {
    "collapsed": false
   },
   "source": [
    "## <center>Problem Sheet #2.</center>"
   ]
  },
  {
   "cell_type": "markdown",
   "metadata": {
    "collapsed": false
   },
   "source": [
    "### <center>Norm, condition number</center>"
   ]
  },
  {
   "cell_type": "markdown",
   "metadata": {
    "collapsed": false
   },
   "source": [
    "<br>\n",
    "<b>1. Exercise.</b> Let $x=(10^{200}, 1)$. Calculate the norm of $x$ with the following two methods:\n",
    "\n",
    "+ $||x||=\\sqrt{x_1^2+x_2^2}$ and\n",
    "+ $c=\\max\\left\\{|x_1|+|x_2|\\right\\}$, $||x||=c\\cdot\\sqrt{\\left(\\frac{x_1}{c}\\right)^2+\\left(\\frac{x_1}{c}\\right)^2}$.\n",
    "\n",
    "\n"
   ]
  },
  {
   "cell_type": "code",
   "execution_count": 2,
   "metadata": {
    "collapsed": false
   },
   "outputs": [
    {
     "name": "stdout",
     "output_type": "stream",
     "text": [
      "x_norma_1 =  Inf\r\n"
     ]
    },
    {
     "name": "stdout",
     "output_type": "stream",
     "text": [
      "x_norma_2 =   1.0000e+200\r\n"
     ]
    }
   ],
   "source": [
    "x=[10^200, 1];\n",
    "x_norma_1=sqrt(x(1)^2+x(2)^2) % or (x(1)^2+x(2)^2)^(1/2)\n",
    "c=max(abs(x(1)),abs(x(2)));\n",
    "x_norma_2=c*sqrt((x(1)/c)^2+(x(2)/c)^2)"
   ]
  },
  {
   "cell_type": "markdown",
   "metadata": {
    "collapsed": false
   },
   "source": [
    "<br>\n",
    "<b>2. Exercise.</b> Write a program, named <i>p_max_norma.m</i> with the help of the built-in functions <i>max</i> and <i>abs</i>, which calculate the maxnorm and the $p$-norm of a real $x$ vector, where the user can choose the $p$-norm!"
   ]
  },
  {
   "cell_type": "code",
   "execution_count": 10,
   "metadata": {
    "collapsed": false
   },
   "outputs": [
    {
     "name": "stdout",
     "output_type": "stream",
     "text": [
      "x =\r\n",
      "\r\n",
      "   1   2  -3\r\n",
      "\r\n"
     ]
    },
    {
     "name": "stdout",
     "output_type": "stream",
     "text": [
      "p =  11\r\n"
     ]
    },
    {
     "name": "stdout",
     "output_type": "stream",
     "text": [
      "norma_p =  3.003138080795621\r\n"
     ]
    },
    {
     "name": "stdout",
     "output_type": "stream",
     "text": [
      "norma_max =  3\r\n"
     ]
    }
   ],
   "source": [
    "format long\n",
    "x=[1 2 -3]\n",
    "p=11\n",
    "norma_p=(sum(abs(x).^p))^(1/p)\n",
    "norma_max=max(abs(x))\n",
    "\n",
    "% Explore the max and abs commands!\n",
    "% Also check the built-in norm(x,p) and norm(x,'inf') commands as well!"
   ]
  },
  {
   "cell_type": "code",
   "execution_count": 23,
   "metadata": {
    "collapsed": false
   },
   "outputs": [
    {
     "name": "stdout",
     "output_type": "stream",
     "text": [
      "norma_p =  3.003138080795621\r\n",
      "norma_max =  3\r\n"
     ]
    }
   ],
   "source": [
    "[norma_p, norma_max]=p_max_norma([1 2 -3],11)"
   ]
  },
  {
   "cell_type": "markdown",
   "metadata": {
    "collapsed": false
   },
   "source": [
    "<br>\n",
    "<b>3. Exercise.</b> Write a program, named <i>indmatrixnorm.m</i> by using <i>switch-case</i>, which can calculate the $||A||_1$, $||A||_2$ or $||A||_{\\infty}$ norm of a square matrix, by typing in the words one, two and inf! If the matrix is not square or we did not type in the mentioned strings, than the program should give an error message!"
   ]
  },
  {
   "cell_type": "code",
   "execution_count": 0,
   "metadata": {
    "collapsed": false
   },
   "outputs": [
   ],
   "source": [
    "% Explore switch-structure, string, not equale, if-else structure\n",
    "% matrix norm"
   ]
  },
  {
   "cell_type": "code",
   "execution_count": 8,
   "metadata": {
    "collapsed": false
   },
   "outputs": [
    {
     "name": "stdout",
     "output_type": "stream",
     "text": [
      "Please use a square matrix!\r\n"
     ]
    }
   ],
   "source": [
    "indmatrixnorm([1 2; 4 6; 2 2],'one')"
   ]
  },
  {
   "cell_type": "markdown",
   "metadata": {
    "collapsed": false
   },
   "source": [
    "<br>\n",
    "<b>4. Exercise.</b> Lets see the following matrix, used to approximate the central finite difference\n",
    "<br>\n",
    "\n",
    " $$A_n=\\begin{pmatrix}\n",
    "    2 & -1 &  &  &  \\\\\n",
    "    -1 & 2 & -1 &  & \\\\\n",
    "     & \\ddots & \\ddots & \\ddots & \\\\\n",
    "     &   & -1 & 2 & -1 \\\\\n",
    "     &  &  & -1 & 2\n",
    "    \\end{pmatrix}\\in\\mathbb{R}^{n \\times n}$$\n",
    "<br>\n",
    "and the so-called Hilbert matrix\n",
    " $$H_n=\\begin{pmatrix} \n",
    "     1 & 1/2 & 1/3 & \\dots & 1/n \\\\\n",
    "     1/2 & 1/3 & 1/4 & \\dots & 1/(n+1)\\\\\n",
    "     1/3 & 1/4 & 1/5 & \\dots & 1/(n+2)\\\\\n",
    "     \\vdots & & & & \\vdots \\\\\n",
    "     1/n & 1/(n+1) & 1/(n+2) & \\dots & 1/(2n-1)\n",
    "      \\end{pmatrix}\\in\\mathbb{R}^{n \\times n}$$\n",
    "<br>\n",
    "\n",
    "Write a program named <i>speccond.m</i>, which gives the 2-norm condition number of the following two matrices, and the <i>condest</i> value for given $n$!"
   ]
  },
  {
   "cell_type": "code",
   "execution_count": 11,
   "metadata": {
    "collapsed": false
   },
   "outputs": [
    {
     "name": "stdout",
     "output_type": "stream",
     "text": [
      "ans =  13.92820323027552\r\n"
     ]
    },
    {
     "name": "stdout",
     "output_type": "stream",
     "text": [
      "ans =  476607.2502425943\r\n"
     ]
    },
    {
     "name": "stdout",
     "output_type": "stream",
     "text": [
      "ans =  17.99999999999999\r\n"
     ]
    },
    {
     "name": "stdout",
     "output_type": "stream",
     "text": [
      "ans =  943656.0000063629\r\n"
     ]
    }
   ],
   "source": [
    "format long\n",
    "N=5;\n",
    "e=ones(N,1);\n",
    "A=spdiags([-e 2*e -e], [-1 0 1], N, N); % exploration on spdiags\n",
    "\n",
    "for i=1:N\n",
    "    for j=1:N\n",
    "        H(i,j)=1/(i+j-1);\n",
    "    end\n",
    "end\n",
    "\n",
    "cond(A,2)\n",
    "cond(H,2)\n",
    "\n",
    "\n",
    "condest(A) %check out the help of condest\n",
    "condest(H)\n",
    "% hilb(5) % built-in command to create a Hilbert matrixr"
   ]
  },
  {
   "cell_type": "code",
   "execution_count": 12,
   "metadata": {
    "collapsed": false
   },
   "outputs": [
    {
     "name": "stdout",
     "output_type": "stream",
     "text": [
      "cond_A_2 =  13.92820323027552\r\n",
      "cond_H_2 =  476607.2502425943\r\n",
      "condest_A_2 =  17.99999999999999\r\n",
      "condest_H_2 =  943656.0000063629\r\n"
     ]
    }
   ],
   "source": [
    "[cond_A_2, cond_H_2, condest_A_2, condest_H_2]=speccond(5)"
   ]
  },
  {
   "cell_type": "markdown",
   "metadata": {
    "collapsed": false
   },
   "source": [
    "<br>\n",
    "<b>5. Exercise.</b> Create the $A\\in\\mathbb{R}^{100 \\times 100}$ matrix, where the entries of $A$ are the following:\n",
    "<br>\n",
    "\n",
    "$$\n",
    "a_{ij}=\n",
    "\\begin{cases}\n",
    "1, \\text{if}\\ i=j\\\\\n",
    "-1, \\text{if}\\ i \\text{<} j\\\\\n",
    "0, \\text{otherwise}\n",
    "\\end{cases}\n",
    "$$\n",
    "\n",
    "<br>\n",
    "\n",
    "Let $b=\\left(-98,-97,\\ldots,0,1\\right)^T$ be the right side vector of the linear algebraic equation system. Perturbate $b$ in the following way: change the last value of $b$ $1$ to $1.0001$. Regarding to the lecture, lets decide, if the linear algebraic equation system ill-conditioned or not! To do so, use the following approximation:\n",
    "<br>\n",
    "\n",
    "$$\n",
    "\\text{cond}_p(A)\\frac{||\\delta b||_p}{||b||_p}\\geq 1\n",
    "$$"
   ]
  },
  {
   "cell_type": "code",
   "execution_count": 13,
   "metadata": {
    "collapsed": false
   },
   "outputs": [
    {
     "name": "stdout",
     "output_type": "stream",
     "text": [
      "second_1 =  14746.66882746781\r\n"
     ]
    },
    {
     "name": "stdout",
     "output_type": "stream",
     "text": [
      "second_2 =  28668.09917942830\r\n"
     ]
    },
    {
     "name": "stdout",
     "output_type": "stream",
     "text": [
      "second_inf =  229064.9224533333\r\n"
     ]
    }
   ],
   "source": [
    "N=32; A=diag(ones(N,1))+triu(-ones (N), 1);\n",
    "b=[N-2:-1:0]; b=[-b 1]';\n",
    "delta_b=[zeros(1,N-1) 0.0001]';\n",
    "second_1=cond(A,1)*norm(delta_b,1)/norm(b,1)\n",
    "second_2=cond(A,2)*norm(delta_b,2)/norm(b,2)\n",
    "second_inf=cond(A,'inf')*norm(delta_b,'inf')/norm(b,'inf')\n"
   ]
  },
  {
   "cell_type": "code",
   "execution_count": 0,
   "metadata": {
    "collapsed": true
   },
   "outputs": [
   ],
   "source": [
   ]
  }
 ],
 "metadata": {
  "kernelspec": {
   "display_name": "Octave",
   "language": "octave",
   "name": "octave"
  },
  "language_info": {
   "file_extension": ".m",
   "help_links": [
    {
     "text": "GNU Octave",
     "url": "https://www.gnu.org/software/octave/support.html"
    },
    {
     "text": "Octave Kernel",
     "url": "https://github.com/Calysto/octave_kernel"
    },
    {
     "text": "MetaKernel Magics",
     "url": "https://metakernel.readthedocs.io/en/latest/source/README.html"
    }
   ],
   "mimetype": "text/x-octave",
   "name": "octave",
   "version": "5.2.0"
  }
 },
 "nbformat": 4,
 "nbformat_minor": 0
}